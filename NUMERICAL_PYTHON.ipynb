{
  "nbformat": 4,
  "nbformat_minor": 0,
  "metadata": {
    "colab": {
      "name": "NUMERICAL PYTHON.ipynb",
      "provenance": [],
      "authorship_tag": "ABX9TyMjhN7JfKn141LUyepumqvW",
      "include_colab_link": true
    },
    "kernelspec": {
      "name": "python3",
      "display_name": "Python 3"
    },
    "language_info": {
      "name": "python"
    }
  },
  "cells": [
    {
      "cell_type": "markdown",
      "metadata": {
        "id": "view-in-github",
        "colab_type": "text"
      },
      "source": [
        "<a href=\"https://colab.research.google.com/github/SuryARavichan/NUMPY/blob/main/NUMERICAL_PYTHON.ipynb\" target=\"_parent\"><img src=\"https://colab.research.google.com/assets/colab-badge.svg\" alt=\"Open In Colab\"/></a>"
      ]
    },
    {
      "cell_type": "code",
      "metadata": {
        "id": "_0XvgH37uK58"
      },
      "source": [
        "import numpy as np"
      ],
      "execution_count": 1,
      "outputs": []
    },
    {
      "cell_type": "code",
      "metadata": {
        "id": "tPT_jhWCu9-l"
      },
      "source": [
        "my_list = [1,2,3]"
      ],
      "execution_count": 2,
      "outputs": []
    },
    {
      "cell_type": "code",
      "metadata": {
        "colab": {
          "base_uri": "https://localhost:8080/"
        },
        "id": "SK4Vt79lvIMu",
        "outputId": "f720867d-ae04-48d7-adc6-74ccccf48e55"
      },
      "source": [
        "type(my_list)"
      ],
      "execution_count": 3,
      "outputs": [
        {
          "output_type": "execute_result",
          "data": {
            "text/plain": [
              "list"
            ]
          },
          "metadata": {},
          "execution_count": 3
        }
      ]
    },
    {
      "cell_type": "code",
      "metadata": {
        "colab": {
          "base_uri": "https://localhost:8080/"
        },
        "id": "jc1OJpaivKqv",
        "outputId": "29ec98d3-a13a-48c2-9850-bb3fd00308eb"
      },
      "source": [
        "np.array(my_list)"
      ],
      "execution_count": 4,
      "outputs": [
        {
          "output_type": "execute_result",
          "data": {
            "text/plain": [
              "array([1, 2, 3])"
            ]
          },
          "metadata": {},
          "execution_count": 4
        }
      ]
    },
    {
      "cell_type": "code",
      "metadata": {
        "id": "hdSo2ik-vO9u"
      },
      "source": [
        "myarr = np.array(my_list)"
      ],
      "execution_count": 5,
      "outputs": []
    },
    {
      "cell_type": "code",
      "metadata": {
        "colab": {
          "base_uri": "https://localhost:8080/"
        },
        "id": "dAc_MFkCvaSf",
        "outputId": "6e14b746-ce3d-46de-f019-95547e4cfe6f"
      },
      "source": [
        "myarr"
      ],
      "execution_count": 6,
      "outputs": [
        {
          "output_type": "execute_result",
          "data": {
            "text/plain": [
              "array([1, 2, 3])"
            ]
          },
          "metadata": {},
          "execution_count": 6
        }
      ]
    },
    {
      "cell_type": "code",
      "metadata": {
        "colab": {
          "base_uri": "https://localhost:8080/"
        },
        "id": "1A7a1HGUvbms",
        "outputId": "95d8a9e8-e50e-45a7-ab9a-fb5befb9ccb9"
      },
      "source": [
        "type(myarr)"
      ],
      "execution_count": 7,
      "outputs": [
        {
          "output_type": "execute_result",
          "data": {
            "text/plain": [
              "numpy.ndarray"
            ]
          },
          "metadata": {},
          "execution_count": 7
        }
      ]
    },
    {
      "cell_type": "code",
      "metadata": {
        "id": "eQa-LHHxvdhJ"
      },
      "source": [
        "mymatrix = [[2,4,6,8,10],[1,3,7,9,10],[12,48,79,20,56]]"
      ],
      "execution_count": 8,
      "outputs": []
    },
    {
      "cell_type": "code",
      "metadata": {
        "colab": {
          "base_uri": "https://localhost:8080/"
        },
        "id": "8kTyH7UDvnO0",
        "outputId": "2f7441a1-cb68-4410-98f5-5946d840d06d"
      },
      "source": [
        "np.array(mymatrix)"
      ],
      "execution_count": 9,
      "outputs": [
        {
          "output_type": "execute_result",
          "data": {
            "text/plain": [
              "array([[ 2,  4,  6,  8, 10],\n",
              "       [ 1,  3,  7,  9, 10],\n",
              "       [12, 48, 79, 20, 56]])"
            ]
          },
          "metadata": {},
          "execution_count": 9
        }
      ]
    },
    {
      "cell_type": "code",
      "metadata": {
        "colab": {
          "base_uri": "https://localhost:8080/"
        },
        "id": "ApvlLDeNvqZt",
        "outputId": "0ea7c36a-d51e-4ce1-dd3e-6d90e3670307"
      },
      "source": [
        "type(mymatrix)"
      ],
      "execution_count": 10,
      "outputs": [
        {
          "output_type": "execute_result",
          "data": {
            "text/plain": [
              "list"
            ]
          },
          "metadata": {},
          "execution_count": 10
        }
      ]
    },
    {
      "cell_type": "code",
      "metadata": {
        "colab": {
          "base_uri": "https://localhost:8080/"
        },
        "id": "TptE3imGvwFX",
        "outputId": "8f9707fc-4c49-4836-c535-d3ea64eac73b"
      },
      "source": [
        "np.arange(5,20,3)"
      ],
      "execution_count": 11,
      "outputs": [
        {
          "output_type": "execute_result",
          "data": {
            "text/plain": [
              "array([ 5,  8, 11, 14, 17])"
            ]
          },
          "metadata": {},
          "execution_count": 11
        }
      ]
    },
    {
      "cell_type": "code",
      "metadata": {
        "colab": {
          "base_uri": "https://localhost:8080/"
        },
        "id": "L48_wXLav3gJ",
        "outputId": "d9ca90cc-3275-4ad5-ab3c-384488ede4bc"
      },
      "source": [
        "np.zeros(17)"
      ],
      "execution_count": 12,
      "outputs": [
        {
          "output_type": "execute_result",
          "data": {
            "text/plain": [
              "array([0., 0., 0., 0., 0., 0., 0., 0., 0., 0., 0., 0., 0., 0., 0., 0., 0.])"
            ]
          },
          "metadata": {},
          "execution_count": 12
        }
      ]
    },
    {
      "cell_type": "code",
      "metadata": {
        "colab": {
          "base_uri": "https://localhost:8080/"
        },
        "id": "Q9qPCZB_wKBq",
        "outputId": "85b475f9-6b7b-486a-c045-6ec38ecf0d24"
      },
      "source": [
        "np.ones(23)"
      ],
      "execution_count": 13,
      "outputs": [
        {
          "output_type": "execute_result",
          "data": {
            "text/plain": [
              "array([1., 1., 1., 1., 1., 1., 1., 1., 1., 1., 1., 1., 1., 1., 1., 1., 1.,\n",
              "       1., 1., 1., 1., 1., 1.])"
            ]
          },
          "metadata": {},
          "execution_count": 13
        }
      ]
    },
    {
      "cell_type": "code",
      "metadata": {
        "colab": {
          "base_uri": "https://localhost:8080/"
        },
        "id": "265jf6_XwNFg",
        "outputId": "833c05b9-6e03-454a-d6db-4542f56a787e"
      },
      "source": [
        "np.zeros((8,8))"
      ],
      "execution_count": 16,
      "outputs": [
        {
          "output_type": "execute_result",
          "data": {
            "text/plain": [
              "array([[0., 0., 0., 0., 0., 0., 0., 0.],\n",
              "       [0., 0., 0., 0., 0., 0., 0., 0.],\n",
              "       [0., 0., 0., 0., 0., 0., 0., 0.],\n",
              "       [0., 0., 0., 0., 0., 0., 0., 0.],\n",
              "       [0., 0., 0., 0., 0., 0., 0., 0.],\n",
              "       [0., 0., 0., 0., 0., 0., 0., 0.],\n",
              "       [0., 0., 0., 0., 0., 0., 0., 0.],\n",
              "       [0., 0., 0., 0., 0., 0., 0., 0.]])"
            ]
          },
          "metadata": {},
          "execution_count": 16
        }
      ]
    },
    {
      "cell_type": "code",
      "metadata": {
        "colab": {
          "base_uri": "https://localhost:8080/"
        },
        "id": "BW5VI20KwRQl",
        "outputId": "cb5b4856-e8b5-4497-98f4-e4a881e21c47"
      },
      "source": [
        "np.zeros((4,7))"
      ],
      "execution_count": 17,
      "outputs": [
        {
          "output_type": "execute_result",
          "data": {
            "text/plain": [
              "array([[0., 0., 0., 0., 0., 0., 0.],\n",
              "       [0., 0., 0., 0., 0., 0., 0.],\n",
              "       [0., 0., 0., 0., 0., 0., 0.],\n",
              "       [0., 0., 0., 0., 0., 0., 0.]])"
            ]
          },
          "metadata": {},
          "execution_count": 17
        }
      ]
    },
    {
      "cell_type": "code",
      "metadata": {
        "colab": {
          "base_uri": "https://localhost:8080/"
        },
        "id": "enjmQdN-waYq",
        "outputId": "3ab4272c-3369-47f0-b73c-04a0e0828afa"
      },
      "source": [
        "np.ones((6,5))"
      ],
      "execution_count": 18,
      "outputs": [
        {
          "output_type": "execute_result",
          "data": {
            "text/plain": [
              "array([[1., 1., 1., 1., 1.],\n",
              "       [1., 1., 1., 1., 1.],\n",
              "       [1., 1., 1., 1., 1.],\n",
              "       [1., 1., 1., 1., 1.],\n",
              "       [1., 1., 1., 1., 1.],\n",
              "       [1., 1., 1., 1., 1.]])"
            ]
          },
          "metadata": {},
          "execution_count": 18
        }
      ]
    },
    {
      "cell_type": "code",
      "metadata": {
        "colab": {
          "base_uri": "https://localhost:8080/"
        },
        "id": "tO4QoaGlwdJS",
        "outputId": "f1c799f5-441a-4403-9d17-0ef2cec35cb0"
      },
      "source": [
        "np.linspace(5,23,4)"
      ],
      "execution_count": 19,
      "outputs": [
        {
          "output_type": "execute_result",
          "data": {
            "text/plain": [
              "array([ 5., 11., 17., 23.])"
            ]
          },
          "metadata": {},
          "execution_count": 19
        }
      ]
    },
    {
      "cell_type": "code",
      "metadata": {
        "colab": {
          "base_uri": "https://localhost:8080/"
        },
        "id": "KVDDk57TwoLU",
        "outputId": "39befd52-fd89-4647-fe97-28b4b9512461"
      },
      "source": [
        "np.linspace(5,89,25)"
      ],
      "execution_count": 20,
      "outputs": [
        {
          "output_type": "execute_result",
          "data": {
            "text/plain": [
              "array([ 5. ,  8.5, 12. , 15.5, 19. , 22.5, 26. , 29.5, 33. , 36.5, 40. ,\n",
              "       43.5, 47. , 50.5, 54. , 57.5, 61. , 64.5, 68. , 71.5, 75. , 78.5,\n",
              "       82. , 85.5, 89. ])"
            ]
          },
          "metadata": {},
          "execution_count": 20
        }
      ]
    },
    {
      "cell_type": "code",
      "metadata": {
        "colab": {
          "base_uri": "https://localhost:8080/"
        },
        "id": "zQQWBmPxwxeJ",
        "outputId": "ba50363f-779c-49cb-9517-38cd87d6f230"
      },
      "source": [
        "np.eye(6)"
      ],
      "execution_count": 21,
      "outputs": [
        {
          "output_type": "execute_result",
          "data": {
            "text/plain": [
              "array([[1., 0., 0., 0., 0., 0.],\n",
              "       [0., 1., 0., 0., 0., 0.],\n",
              "       [0., 0., 1., 0., 0., 0.],\n",
              "       [0., 0., 0., 1., 0., 0.],\n",
              "       [0., 0., 0., 0., 1., 0.],\n",
              "       [0., 0., 0., 0., 0., 1.]])"
            ]
          },
          "metadata": {},
          "execution_count": 21
        }
      ]
    },
    {
      "cell_type": "code",
      "metadata": {
        "colab": {
          "base_uri": "https://localhost:8080/"
        },
        "id": "wTS0b7t_xFYQ",
        "outputId": "28dcff52-fd6f-4054-a213-38ade2b651bb"
      },
      "source": [
        "np.eye(35)"
      ],
      "execution_count": 22,
      "outputs": [
        {
          "output_type": "execute_result",
          "data": {
            "text/plain": [
              "array([[1., 0., 0., ..., 0., 0., 0.],\n",
              "       [0., 1., 0., ..., 0., 0., 0.],\n",
              "       [0., 0., 1., ..., 0., 0., 0.],\n",
              "       ...,\n",
              "       [0., 0., 0., ..., 1., 0., 0.],\n",
              "       [0., 0., 0., ..., 0., 1., 0.],\n",
              "       [0., 0., 0., ..., 0., 0., 1.]])"
            ]
          },
          "metadata": {},
          "execution_count": 22
        }
      ]
    },
    {
      "cell_type": "code",
      "metadata": {
        "colab": {
          "base_uri": "https://localhost:8080/"
        },
        "id": "MPMSS0IZxIHo",
        "outputId": "9adf7d42-82e7-405a-f151-90183fb909e3"
      },
      "source": [
        "np.random.randint(3,56,12)"
      ],
      "execution_count": 23,
      "outputs": [
        {
          "output_type": "execute_result",
          "data": {
            "text/plain": [
              "array([11, 21, 37, 31, 41, 49, 40, 10, 39, 47, 40, 38])"
            ]
          },
          "metadata": {},
          "execution_count": 23
        }
      ]
    },
    {
      "cell_type": "code",
      "metadata": {
        "colab": {
          "base_uri": "https://localhost:8080/"
        },
        "id": "s4L3_P12xVWZ",
        "outputId": "4afae2bf-1031-42c5-c042-ee5e013ed092"
      },
      "source": [
        "np.random.randint(15,18889,265)"
      ],
      "execution_count": 26,
      "outputs": [
        {
          "output_type": "execute_result",
          "data": {
            "text/plain": [
              "array([18854,  1076,  9360,  7965,  7815,  3057, 10734,  5240, 17780,\n",
              "       13574, 14504,  3912, 18236, 16827, 13038, 16033,  4122, 18246,\n",
              "        4027,  5447,  9736,  4705,   373, 11947,    44, 14602,  6353,\n",
              "        5660, 12575,  7296,  4217,  9873, 12553, 11090,  6903,  2932,\n",
              "       12730,  9475,  2137, 18215, 11096, 10860, 12491,  5686, 11099,\n",
              "        8105,  8005,  8722,  4773,  7467,  4709,  7781,  9457, 12822,\n",
              "       12354,  9607,  1147,  4208, 12248, 17685,  3522,  3067, 10940,\n",
              "        4231,  3200,  1976, 14509,   798,  7211, 11676, 17871, 18154,\n",
              "       17748, 10042, 16307,  7014,  2722, 18545, 14374,  1609, 14675,\n",
              "       12086,  9140, 11160,  8794,  8960, 18669, 13185,  2347,  1669,\n",
              "       17079, 17293, 15600,  9352, 11653,   824,  9758,  3388,  9335,\n",
              "       10839, 18391,  8207,  4825, 16560,  3763, 18793,  4638, 17454,\n",
              "       18733,  1453,  6335, 10539, 17794, 16890,  7348,  6381, 13868,\n",
              "        9801,  9935,  5380, 13605,  4485,  8826,  6156, 17660, 17522,\n",
              "         438, 10331,  5008, 15446, 12541, 13533, 11314,  6888, 14398,\n",
              "       11683, 10781, 18819,  1594,  7542, 18771, 15192,  1389, 16983,\n",
              "       15671,  5426,  7393,  1630, 14388, 15287,  7301, 10490, 11140,\n",
              "        8996,  1363,  6113, 10007,  7899, 15626,   851, 14006, 18352,\n",
              "         778, 12388,  9090,  5754,  5109, 18370, 10067,  4888, 17016,\n",
              "        4530,  9054, 12633,  7279,  5139,  6314, 16408,   103, 13039,\n",
              "        9422,  7781, 17070,  3017,  8595,  5676,  4465,  4764,  7631,\n",
              "       16328,  8081,  4684, 17512,  2502, 17622, 15044,  1547,  9895,\n",
              "        3416, 11471,  9802,  6293, 16786,  2174,  6469,  9318,  2803,\n",
              "        2668,  4148,  7134,  9648, 10950, 18318,   736,   286, 17754,\n",
              "       14619, 16723, 16948,  5505,  4771,  1427,  2624, 12906, 15926,\n",
              "       15745, 16218, 10629, 13077, 11126,  5731,  6824,  3941, 13577,\n",
              "        1667,  9527,  9217,  9928,  2453, 12291,  7437, 16017, 15956,\n",
              "       13509,    20, 11781,  8685,  7598, 17412, 15471, 10902, 17925,\n",
              "        2542,  1356,  8035,  8049, 14011,  9312, 12983,  8078,  7744,\n",
              "       13337,  3793,  8485, 10588])"
            ]
          },
          "metadata": {},
          "execution_count": 26
        }
      ]
    },
    {
      "cell_type": "code",
      "metadata": {
        "colab": {
          "base_uri": "https://localhost:8080/"
        },
        "id": "4vNf0_0HxaMx",
        "outputId": "0c6b2942-e3c3-4c3b-fdf8-a524e37d31bd"
      },
      "source": [
        "np.random.rand(8,5)"
      ],
      "execution_count": 31,
      "outputs": [
        {
          "output_type": "execute_result",
          "data": {
            "text/plain": [
              "array([[0.79518684, 0.57913229, 0.78330271, 0.51255576, 0.70782101],\n",
              "       [0.87664972, 0.55827771, 0.05937113, 0.36687797, 0.77830171],\n",
              "       [0.34398798, 0.11613255, 0.51847188, 0.28819766, 0.23266854],\n",
              "       [0.09274854, 0.76470224, 0.98981683, 0.14315136, 0.30208624],\n",
              "       [0.58488389, 0.1378382 , 0.20912025, 0.5248327 , 0.41138592],\n",
              "       [0.76285253, 0.5304984 , 0.55192038, 0.09341302, 0.75928853],\n",
              "       [0.49497042, 0.93591827, 0.48818604, 0.91630114, 0.23106631],\n",
              "       [0.64801612, 0.07473049, 0.56927165, 0.40906255, 0.77316415]])"
            ]
          },
          "metadata": {},
          "execution_count": 31
        }
      ]
    },
    {
      "cell_type": "code",
      "metadata": {
        "colab": {
          "base_uri": "https://localhost:8080/"
        },
        "id": "bGKoDiiHxqOF",
        "outputId": "60c4b7ed-01bb-4e00-a83f-d1cd010c4fbf"
      },
      "source": [
        "np.random.randn(23)"
      ],
      "execution_count": 32,
      "outputs": [
        {
          "output_type": "execute_result",
          "data": {
            "text/plain": [
              "array([ 0.25624322,  1.69658699, -0.1212456 ,  0.82613347, -0.12172179,\n",
              "        0.37152676,  1.67802236, -1.25634506, -0.87940116, -0.23417345,\n",
              "        0.70743452, -0.99894209,  0.34218126,  0.76568214, -0.67282305,\n",
              "       -1.86767722, -0.67025519, -0.07481973,  0.34799735, -0.41442477,\n",
              "        1.37111051, -1.51328319,  1.64645208])"
            ]
          },
          "metadata": {},
          "execution_count": 32
        }
      ]
    },
    {
      "cell_type": "code",
      "metadata": {
        "colab": {
          "base_uri": "https://localhost:8080/"
        },
        "id": "ydKAD_UIyDWj",
        "outputId": "1f1aaeef-71ef-4d8f-f974-dc72f154e953"
      },
      "source": [
        "np.random.randn(5,4)"
      ],
      "execution_count": 33,
      "outputs": [
        {
          "output_type": "execute_result",
          "data": {
            "text/plain": [
              "array([[-0.5395931 ,  0.89177768,  0.36943246,  2.20175786],\n",
              "       [-0.70597659,  1.22134631, -0.83035052,  0.50521   ],\n",
              "       [ 0.08573733,  2.75105468, -1.69169742, -1.35090747],\n",
              "       [ 1.05929942, -0.09271515,  0.28686318, -0.3808485 ],\n",
              "       [ 1.49320887,  1.03722338,  0.62491674, -0.1079687 ]])"
            ]
          },
          "metadata": {},
          "execution_count": 33
        }
      ]
    },
    {
      "cell_type": "code",
      "metadata": {
        "colab": {
          "base_uri": "https://localhost:8080/"
        },
        "id": "bU17-HfqyGZ_",
        "outputId": "df87be6f-02e3-403b-db73-3642a119e4b9"
      },
      "source": [
        "np.random.randint(5,150,(8,3))"
      ],
      "execution_count": 34,
      "outputs": [
        {
          "output_type": "execute_result",
          "data": {
            "text/plain": [
              "array([[ 70,  91,  16],\n",
              "       [ 23, 138,  23],\n",
              "       [ 15, 125,  28],\n",
              "       [140,  94,  32],\n",
              "       [ 71,  11, 144],\n",
              "       [118, 100,  83],\n",
              "       [  8,  46,  67],\n",
              "       [104,  73,  38]])"
            ]
          },
          "metadata": {},
          "execution_count": 34
        }
      ]
    },
    {
      "cell_type": "code",
      "metadata": {
        "colab": {
          "base_uri": "https://localhost:8080/"
        },
        "id": "p_fqLuNjyb4g",
        "outputId": "aaa810e0-df14-4313-d3e5-d57beed1232c"
      },
      "source": [
        "np.random.randint(0,100,15)"
      ],
      "execution_count": 35,
      "outputs": [
        {
          "output_type": "execute_result",
          "data": {
            "text/plain": [
              "array([65, 32, 94, 92, 67, 24, 78, 82, 45, 95, 86, 36,  2, 59, 62])"
            ]
          },
          "metadata": {},
          "execution_count": 35
        }
      ]
    },
    {
      "cell_type": "code",
      "metadata": {
        "colab": {
          "base_uri": "https://localhost:8080/"
        },
        "id": "smmTirzIyjnA",
        "outputId": "e91a77de-8cf1-439e-f367-8db30390e4d2"
      },
      "source": [
        "np.random.seed(42)\n",
        "np.random.rand(5)"
      ],
      "execution_count": 36,
      "outputs": [
        {
          "output_type": "execute_result",
          "data": {
            "text/plain": [
              "array([0.37454012, 0.95071431, 0.73199394, 0.59865848, 0.15601864])"
            ]
          },
          "metadata": {},
          "execution_count": 36
        }
      ]
    },
    {
      "cell_type": "code",
      "metadata": {
        "colab": {
          "base_uri": "https://localhost:8080/"
        },
        "id": "2Yc5XTJWy1Nu",
        "outputId": "951e1a70-d976-4261-c50a-4e90f1b634c1"
      },
      "source": [
        "np.random.seed(65)\n",
        "np.random.rand(5)"
      ],
      "execution_count": 37,
      "outputs": [
        {
          "output_type": "execute_result",
          "data": {
            "text/plain": [
              "array([0.21864505, 0.03140272, 0.28712528, 0.17264466, 0.30337638])"
            ]
          },
          "metadata": {},
          "execution_count": 37
        }
      ]
    },
    {
      "cell_type": "code",
      "metadata": {
        "id": "ZsocDD7RzBgc"
      },
      "source": [
        "arr = np.arange(0,25)"
      ],
      "execution_count": 38,
      "outputs": []
    },
    {
      "cell_type": "code",
      "metadata": {
        "colab": {
          "base_uri": "https://localhost:8080/"
        },
        "id": "mhfZ9BkbzPHd",
        "outputId": "b6b38a5f-1bf2-4d14-8976-d588cf654f66"
      },
      "source": [
        "arr"
      ],
      "execution_count": 39,
      "outputs": [
        {
          "output_type": "execute_result",
          "data": {
            "text/plain": [
              "array([ 0,  1,  2,  3,  4,  5,  6,  7,  8,  9, 10, 11, 12, 13, 14, 15, 16,\n",
              "       17, 18, 19, 20, 21, 22, 23, 24])"
            ]
          },
          "metadata": {},
          "execution_count": 39
        }
      ]
    },
    {
      "cell_type": "code",
      "metadata": {
        "colab": {
          "base_uri": "https://localhost:8080/"
        },
        "id": "qQEHgNrlzQwa",
        "outputId": "72ddf522-4444-4688-94d4-4bed26cdc68c"
      },
      "source": [
        "arr.reshape(5,5)"
      ],
      "execution_count": 41,
      "outputs": [
        {
          "output_type": "execute_result",
          "data": {
            "text/plain": [
              "array([[ 0,  1,  2,  3,  4],\n",
              "       [ 5,  6,  7,  8,  9],\n",
              "       [10, 11, 12, 13, 14],\n",
              "       [15, 16, 17, 18, 19],\n",
              "       [20, 21, 22, 23, 24]])"
            ]
          },
          "metadata": {},
          "execution_count": 41
        }
      ]
    },
    {
      "cell_type": "code",
      "metadata": {
        "id": "AYaYSriTzS-A"
      },
      "source": [
        "surya = np.random.randint(0,123,18)"
      ],
      "execution_count": 43,
      "outputs": []
    },
    {
      "cell_type": "code",
      "metadata": {
        "colab": {
          "base_uri": "https://localhost:8080/"
        },
        "id": "NGfx_kaRzibp",
        "outputId": "63b46ed9-584e-4ae4-fc57-ac80412c60d9"
      },
      "source": [
        "max(surya)"
      ],
      "execution_count": 44,
      "outputs": [
        {
          "output_type": "execute_result",
          "data": {
            "text/plain": [
              "101"
            ]
          },
          "metadata": {},
          "execution_count": 44
        }
      ]
    },
    {
      "cell_type": "code",
      "metadata": {
        "colab": {
          "base_uri": "https://localhost:8080/"
        },
        "id": "Uc5vU4OpztUQ",
        "outputId": "3a80ea7b-7dcc-4dc4-a1f5-b289d81042cc"
      },
      "source": [
        "min(surya)"
      ],
      "execution_count": 45,
      "outputs": [
        {
          "output_type": "execute_result",
          "data": {
            "text/plain": [
              "3"
            ]
          },
          "metadata": {},
          "execution_count": 45
        }
      ]
    },
    {
      "cell_type": "code",
      "metadata": {
        "colab": {
          "base_uri": "https://localhost:8080/"
        },
        "id": "-7iLwGk7zutn",
        "outputId": "5992f2b7-13bd-4a08-8ac4-cef405e6982b"
      },
      "source": [
        "surya.argmax()"
      ],
      "execution_count": 47,
      "outputs": [
        {
          "output_type": "execute_result",
          "data": {
            "text/plain": [
              "14"
            ]
          },
          "metadata": {},
          "execution_count": 47
        }
      ]
    },
    {
      "cell_type": "code",
      "metadata": {
        "colab": {
          "base_uri": "https://localhost:8080/"
        },
        "id": "9dNUn7y6zyg4",
        "outputId": "3c8c564a-1b48-4368-b529-7814dcd27e6f"
      },
      "source": [
        "surya.argmin()"
      ],
      "execution_count": 48,
      "outputs": [
        {
          "output_type": "execute_result",
          "data": {
            "text/plain": [
              "7"
            ]
          },
          "metadata": {},
          "execution_count": 48
        }
      ]
    },
    {
      "cell_type": "code",
      "metadata": {
        "colab": {
          "base_uri": "https://localhost:8080/"
        },
        "id": "KwCVDaVgz6vl",
        "outputId": "33ae7942-7170-4ca5-9e7e-0f48fd351960"
      },
      "source": [
        "surya.dtype"
      ],
      "execution_count": 49,
      "outputs": [
        {
          "output_type": "execute_result",
          "data": {
            "text/plain": [
              "dtype('int64')"
            ]
          },
          "metadata": {},
          "execution_count": 49
        }
      ]
    },
    {
      "cell_type": "code",
      "metadata": {
        "colab": {
          "base_uri": "https://localhost:8080/"
        },
        "id": "5A7KhhbHz-Bt",
        "outputId": "b789471d-750a-4dce-f5ae-0c6cf620dc5d"
      },
      "source": [
        "surya.shape"
      ],
      "execution_count": 50,
      "outputs": [
        {
          "output_type": "execute_result",
          "data": {
            "text/plain": [
              "(18,)"
            ]
          },
          "metadata": {},
          "execution_count": 50
        }
      ]
    },
    {
      "cell_type": "code",
      "metadata": {
        "id": "Qqnbhk1c0CT8"
      },
      "source": [
        "arr = np.arange(0,11)"
      ],
      "execution_count": 54,
      "outputs": []
    },
    {
      "cell_type": "code",
      "metadata": {
        "colab": {
          "base_uri": "https://localhost:8080/"
        },
        "id": "2m4pTRt30Iai",
        "outputId": "a5fc226c-ec8b-43a2-d3c6-2a083fa236c5"
      },
      "source": [
        "arr"
      ],
      "execution_count": 55,
      "outputs": [
        {
          "output_type": "execute_result",
          "data": {
            "text/plain": [
              "array([ 0,  1,  2,  3,  4,  5,  6,  7,  8,  9, 10])"
            ]
          },
          "metadata": {},
          "execution_count": 55
        }
      ]
    },
    {
      "cell_type": "code",
      "metadata": {
        "colab": {
          "base_uri": "https://localhost:8080/"
        },
        "id": "ZTTMX6E02gmN",
        "outputId": "0ab77cc4-d0fe-4e8b-f82c-6f669fc08597"
      },
      "source": [
        "arr[6]"
      ],
      "execution_count": 56,
      "outputs": [
        {
          "output_type": "execute_result",
          "data": {
            "text/plain": [
              "6"
            ]
          },
          "metadata": {},
          "execution_count": 56
        }
      ]
    },
    {
      "cell_type": "code",
      "metadata": {
        "colab": {
          "base_uri": "https://localhost:8080/"
        },
        "id": "FnAeF0g_2h9X",
        "outputId": "b6a61fd1-d652-4616-9d20-a4fc8bfd0ba9"
      },
      "source": [
        "arr[2:5]"
      ],
      "execution_count": 57,
      "outputs": [
        {
          "output_type": "execute_result",
          "data": {
            "text/plain": [
              "array([2, 3, 4])"
            ]
          },
          "metadata": {},
          "execution_count": 57
        }
      ]
    },
    {
      "cell_type": "code",
      "metadata": {
        "colab": {
          "base_uri": "https://localhost:8080/"
        },
        "id": "ylayaTIe2nvB",
        "outputId": "5863279e-fed2-46d5-aedd-9acddecab936"
      },
      "source": [
        "arr[0:5]"
      ],
      "execution_count": 58,
      "outputs": [
        {
          "output_type": "execute_result",
          "data": {
            "text/plain": [
              "array([0, 1, 2, 3, 4])"
            ]
          },
          "metadata": {},
          "execution_count": 58
        }
      ]
    },
    {
      "cell_type": "code",
      "metadata": {
        "colab": {
          "base_uri": "https://localhost:8080/"
        },
        "id": "mvmCfr1n2ppO",
        "outputId": "d1c66f35-1260-4828-818c-5a65cbe2548b"
      },
      "source": [
        "arr[:6]"
      ],
      "execution_count": 59,
      "outputs": [
        {
          "output_type": "execute_result",
          "data": {
            "text/plain": [
              "array([0, 1, 2, 3, 4, 5])"
            ]
          },
          "metadata": {},
          "execution_count": 59
        }
      ]
    },
    {
      "cell_type": "code",
      "metadata": {
        "colab": {
          "base_uri": "https://localhost:8080/"
        },
        "id": "orArEcrY2rvV",
        "outputId": "ba146d4c-5139-4305-9b88-07c6ab6e5135"
      },
      "source": [
        "arr[5:]"
      ],
      "execution_count": 60,
      "outputs": [
        {
          "output_type": "execute_result",
          "data": {
            "text/plain": [
              "array([ 5,  6,  7,  8,  9, 10])"
            ]
          },
          "metadata": {},
          "execution_count": 60
        }
      ]
    },
    {
      "cell_type": "code",
      "metadata": {
        "id": "Fkgr5gnC2u5l"
      },
      "source": [
        "arr[0:5] = 100"
      ],
      "execution_count": 61,
      "outputs": []
    },
    {
      "cell_type": "code",
      "metadata": {
        "colab": {
          "base_uri": "https://localhost:8080/"
        },
        "id": "5eWF4Uvs27jc",
        "outputId": "695060e0-9410-480a-ff90-1cba35fffb75"
      },
      "source": [
        "arr"
      ],
      "execution_count": 62,
      "outputs": [
        {
          "output_type": "execute_result",
          "data": {
            "text/plain": [
              "array([100, 100, 100, 100, 100,   5,   6,   7,   8,   9,  10])"
            ]
          },
          "metadata": {},
          "execution_count": 62
        }
      ]
    },
    {
      "cell_type": "code",
      "metadata": {
        "id": "jbUK8J4z28Xc"
      },
      "source": [
        "arr1 = np.arange(0,11)"
      ],
      "execution_count": 64,
      "outputs": []
    },
    {
      "cell_type": "code",
      "metadata": {
        "id": "i8x5cAnl3ApT"
      },
      "source": [
        "slice_of_arr1 = arr[0:7]"
      ],
      "execution_count": 66,
      "outputs": []
    },
    {
      "cell_type": "code",
      "metadata": {
        "colab": {
          "base_uri": "https://localhost:8080/"
        },
        "id": "jw1qwxiG3JJx",
        "outputId": "12a5fa46-172a-4ee7-987f-1364b94835dc"
      },
      "source": [
        "slice_of_arr1"
      ],
      "execution_count": 67,
      "outputs": [
        {
          "output_type": "execute_result",
          "data": {
            "text/plain": [
              "array([100, 100, 100, 100, 100,   5,   6])"
            ]
          },
          "metadata": {},
          "execution_count": 67
        }
      ]
    },
    {
      "cell_type": "code",
      "metadata": {
        "colab": {
          "base_uri": "https://localhost:8080/"
        },
        "id": "eTNKzH2N3O2i",
        "outputId": "5d61bf32-fd0a-43e1-8b70-79d6370b9698"
      },
      "source": [
        "arr"
      ],
      "execution_count": 68,
      "outputs": [
        {
          "output_type": "execute_result",
          "data": {
            "text/plain": [
              "array([100, 100, 100, 100, 100,   5,   6,   7,   8,   9,  10])"
            ]
          },
          "metadata": {},
          "execution_count": 68
        }
      ]
    },
    {
      "cell_type": "code",
      "metadata": {
        "id": "7OEOcUoJ3RKN"
      },
      "source": [
        "slice_of_arr1[:] = 78"
      ],
      "execution_count": 69,
      "outputs": []
    },
    {
      "cell_type": "code",
      "metadata": {
        "colab": {
          "base_uri": "https://localhost:8080/"
        },
        "id": "YWTMpu593WRg",
        "outputId": "bc9a1f8b-5d7a-47ef-c486-2403d116a2d8"
      },
      "source": [
        "slice_of_arr1"
      ],
      "execution_count": 70,
      "outputs": [
        {
          "output_type": "execute_result",
          "data": {
            "text/plain": [
              "array([78, 78, 78, 78, 78, 78, 78])"
            ]
          },
          "metadata": {},
          "execution_count": 70
        }
      ]
    },
    {
      "cell_type": "code",
      "metadata": {
        "id": "QCygKbkl3XfG"
      },
      "source": [
        "arr_2d = np.array([[10,20,30],[40,50,60],[70,80,90]])"
      ],
      "execution_count": 72,
      "outputs": []
    },
    {
      "cell_type": "code",
      "metadata": {
        "colab": {
          "base_uri": "https://localhost:8080/"
        },
        "id": "FX8OIl293x3S",
        "outputId": "cfd4e5ed-3fea-49ac-c4a8-8a24886e5cb4"
      },
      "source": [
        "arr_2d"
      ],
      "execution_count": 74,
      "outputs": [
        {
          "output_type": "execute_result",
          "data": {
            "text/plain": [
              "array([[10, 20, 30],\n",
              "       [40, 50, 60],\n",
              "       [70, 80, 90]])"
            ]
          },
          "metadata": {},
          "execution_count": 74
        }
      ]
    },
    {
      "cell_type": "code",
      "metadata": {
        "colab": {
          "base_uri": "https://localhost:8080/"
        },
        "id": "oqSoXPqy379Z",
        "outputId": "b546d188-af92-4718-e11e-0a4a2c846fb7"
      },
      "source": [
        "arr_2d.shape\n"
      ],
      "execution_count": 76,
      "outputs": [
        {
          "output_type": "execute_result",
          "data": {
            "text/plain": [
              "(3, 3)"
            ]
          },
          "metadata": {},
          "execution_count": 76
        }
      ]
    },
    {
      "cell_type": "code",
      "metadata": {
        "colab": {
          "base_uri": "https://localhost:8080/"
        },
        "id": "wBU-pkMr3-u3",
        "outputId": "7cae1067-ce8a-4412-b211-16d0b44d4d32"
      },
      "source": [
        "arr_2d[2]"
      ],
      "execution_count": 77,
      "outputs": [
        {
          "output_type": "execute_result",
          "data": {
            "text/plain": [
              "array([70, 80, 90])"
            ]
          },
          "metadata": {},
          "execution_count": 77
        }
      ]
    },
    {
      "cell_type": "code",
      "metadata": {
        "colab": {
          "base_uri": "https://localhost:8080/"
        },
        "id": "wpsF9o-Y4DkH",
        "outputId": "cdbb6ab9-1a4a-436f-ac7b-238f764a7e3a"
      },
      "source": [
        "arr_2d[1][1]"
      ],
      "execution_count": 78,
      "outputs": [
        {
          "output_type": "execute_result",
          "data": {
            "text/plain": [
              "50"
            ]
          },
          "metadata": {},
          "execution_count": 78
        }
      ]
    },
    {
      "cell_type": "code",
      "metadata": {
        "colab": {
          "base_uri": "https://localhost:8080/"
        },
        "id": "tNjaLjAN4MhK",
        "outputId": "da431325-0cf5-469d-f31b-174debaba55f"
      },
      "source": [
        "arr_2d[2][1]"
      ],
      "execution_count": 80,
      "outputs": [
        {
          "output_type": "execute_result",
          "data": {
            "text/plain": [
              "80"
            ]
          },
          "metadata": {},
          "execution_count": 80
        }
      ]
    },
    {
      "cell_type": "code",
      "metadata": {
        "colab": {
          "base_uri": "https://localhost:8080/"
        },
        "id": "KvkCJilk4QbG",
        "outputId": "13200319-11c5-48e1-cc80-a4ad90e85529"
      },
      "source": [
        "arr_2d[:2]"
      ],
      "execution_count": 81,
      "outputs": [
        {
          "output_type": "execute_result",
          "data": {
            "text/plain": [
              "array([[10, 20, 30],\n",
              "       [40, 50, 60]])"
            ]
          },
          "metadata": {},
          "execution_count": 81
        }
      ]
    },
    {
      "cell_type": "code",
      "metadata": {
        "colab": {
          "base_uri": "https://localhost:8080/"
        },
        "id": "R7kbgUpu4XdE",
        "outputId": "1e4e02e7-882c-4f25-9a20-f65567789466"
      },
      "source": [
        "arr_2d[1,2]"
      ],
      "execution_count": 82,
      "outputs": [
        {
          "output_type": "execute_result",
          "data": {
            "text/plain": [
              "60"
            ]
          },
          "metadata": {},
          "execution_count": 82
        }
      ]
    },
    {
      "cell_type": "code",
      "metadata": {
        "colab": {
          "base_uri": "https://localhost:8080/"
        },
        "id": "w0JIXTrd4aXw",
        "outputId": "c9de2207-75f1-45c1-d197-c9ca63a66b72"
      },
      "source": [
        "arr_2d[:2,1:]"
      ],
      "execution_count": 83,
      "outputs": [
        {
          "output_type": "execute_result",
          "data": {
            "text/plain": [
              "array([[20, 30],\n",
              "       [50, 60]])"
            ]
          },
          "metadata": {},
          "execution_count": 83
        }
      ]
    },
    {
      "cell_type": "code",
      "metadata": {
        "id": "SDNcvhHz4ftm"
      },
      "source": [
        "arr = np.arange(1,11)"
      ],
      "execution_count": 85,
      "outputs": []
    },
    {
      "cell_type": "code",
      "metadata": {
        "colab": {
          "base_uri": "https://localhost:8080/"
        },
        "id": "dWNz9Y4z4oK5",
        "outputId": "88b88d4a-bbe9-402d-f7e9-90339334a6ef"
      },
      "source": [
        "arr"
      ],
      "execution_count": 87,
      "outputs": [
        {
          "output_type": "execute_result",
          "data": {
            "text/plain": [
              "array([ 1,  2,  3,  4,  5,  6,  7,  8,  9, 10])"
            ]
          },
          "metadata": {},
          "execution_count": 87
        }
      ]
    },
    {
      "cell_type": "code",
      "metadata": {
        "colab": {
          "base_uri": "https://localhost:8080/"
        },
        "id": "EJp5nLqz4sEL",
        "outputId": "5b702dbd-6355-4db6-8802-fb6f1e6d6258"
      },
      "source": [
        "arr > 8"
      ],
      "execution_count": 88,
      "outputs": [
        {
          "output_type": "execute_result",
          "data": {
            "text/plain": [
              "array([False, False, False, False, False, False, False, False,  True,\n",
              "        True])"
            ]
          },
          "metadata": {},
          "execution_count": 88
        }
      ]
    },
    {
      "cell_type": "code",
      "metadata": {
        "id": "Ah35s_pM4tvX"
      },
      "source": [
        "bool_arr = arr > 5"
      ],
      "execution_count": 89,
      "outputs": []
    },
    {
      "cell_type": "code",
      "metadata": {
        "colab": {
          "base_uri": "https://localhost:8080/"
        },
        "id": "c0dJXt7q4xpk",
        "outputId": "6624efe8-77b7-44fd-8fd0-867003ecf530"
      },
      "source": [
        "bool_arr"
      ],
      "execution_count": 91,
      "outputs": [
        {
          "output_type": "execute_result",
          "data": {
            "text/plain": [
              "array([False, False, False, False, False,  True,  True,  True,  True,\n",
              "        True])"
            ]
          },
          "metadata": {},
          "execution_count": 91
        }
      ]
    },
    {
      "cell_type": "code",
      "metadata": {
        "colab": {
          "base_uri": "https://localhost:8080/"
        },
        "id": "NGU6EDr_4zS7",
        "outputId": "9a3dceb6-1833-4407-c88c-2ab27d6d9c9d"
      },
      "source": [
        "arr[bool_arr]"
      ],
      "execution_count": 92,
      "outputs": [
        {
          "output_type": "execute_result",
          "data": {
            "text/plain": [
              "array([ 6,  7,  8,  9, 10])"
            ]
          },
          "metadata": {},
          "execution_count": 92
        }
      ]
    },
    {
      "cell_type": "code",
      "metadata": {
        "id": "V5xKBfql48wF"
      },
      "source": [
        "arr = np.arange(0,10)"
      ],
      "execution_count": 96,
      "outputs": []
    },
    {
      "cell_type": "code",
      "metadata": {
        "colab": {
          "base_uri": "https://localhost:8080/"
        },
        "id": "5jrdgQ9k5AKS",
        "outputId": "face008b-bf2f-4337-c9dd-180ea02cf2b9"
      },
      "source": [
        "arr"
      ],
      "execution_count": 97,
      "outputs": [
        {
          "output_type": "execute_result",
          "data": {
            "text/plain": [
              "array([0, 1, 2, 3, 4, 5, 6, 7, 8, 9])"
            ]
          },
          "metadata": {},
          "execution_count": 97
        }
      ]
    },
    {
      "cell_type": "code",
      "metadata": {
        "colab": {
          "base_uri": "https://localhost:8080/"
        },
        "id": "SSGg6oHd58CB",
        "outputId": "7eddc547-e546-43f5-fcbd-804a52a83a00"
      },
      "source": [
        "arr + 8"
      ],
      "execution_count": 98,
      "outputs": [
        {
          "output_type": "execute_result",
          "data": {
            "text/plain": [
              "array([ 8,  9, 10, 11, 12, 13, 14, 15, 16, 17])"
            ]
          },
          "metadata": {},
          "execution_count": 98
        }
      ]
    },
    {
      "cell_type": "code",
      "metadata": {
        "colab": {
          "base_uri": "https://localhost:8080/"
        },
        "id": "7_NPRYLh59Vb",
        "outputId": "70a0f50e-f7a4-4a7f-bdd3-4202a3d761ad"
      },
      "source": [
        "arr - 15"
      ],
      "execution_count": 99,
      "outputs": [
        {
          "output_type": "execute_result",
          "data": {
            "text/plain": [
              "array([-15, -14, -13, -12, -11, -10,  -9,  -8,  -7,  -6])"
            ]
          },
          "metadata": {},
          "execution_count": 99
        }
      ]
    },
    {
      "cell_type": "code",
      "metadata": {
        "colab": {
          "base_uri": "https://localhost:8080/"
        },
        "id": "A2WtPw2J5-08",
        "outputId": "a8764ab3-49e0-4066-b8cc-e6b52372dd25"
      },
      "source": [
        "arr"
      ],
      "execution_count": 100,
      "outputs": [
        {
          "output_type": "execute_result",
          "data": {
            "text/plain": [
              "array([0, 1, 2, 3, 4, 5, 6, 7, 8, 9])"
            ]
          },
          "metadata": {},
          "execution_count": 100
        }
      ]
    },
    {
      "cell_type": "code",
      "metadata": {
        "colab": {
          "base_uri": "https://localhost:8080/"
        },
        "id": "af1OKSuD5_zI",
        "outputId": "c76d9b3f-163c-4271-ca7c-6e6fc8814c3d"
      },
      "source": [
        "arr * 2656565"
      ],
      "execution_count": 101,
      "outputs": [
        {
          "output_type": "execute_result",
          "data": {
            "text/plain": [
              "array([       0,  2656565,  5313130,  7969695, 10626260, 13282825,\n",
              "       15939390, 18595955, 21252520, 23909085])"
            ]
          },
          "metadata": {},
          "execution_count": 101
        }
      ]
    },
    {
      "cell_type": "code",
      "metadata": {
        "colab": {
          "base_uri": "https://localhost:8080/"
        },
        "id": "i4W2Ai_66B_O",
        "outputId": "0d691e11-15bc-4f58-c829-651d46f51047"
      },
      "source": [
        "arr * arr"
      ],
      "execution_count": 102,
      "outputs": [
        {
          "output_type": "execute_result",
          "data": {
            "text/plain": [
              "array([ 0,  1,  4,  9, 16, 25, 36, 49, 64, 81])"
            ]
          },
          "metadata": {},
          "execution_count": 102
        }
      ]
    },
    {
      "cell_type": "code",
      "metadata": {
        "colab": {
          "base_uri": "https://localhost:8080/"
        },
        "id": "mDMr2_4Z6FUZ",
        "outputId": "c3482378-9a73-4360-b366-88ba38a5cc57"
      },
      "source": [
        "arr + arr"
      ],
      "execution_count": 104,
      "outputs": [
        {
          "output_type": "execute_result",
          "data": {
            "text/plain": [
              "array([ 0,  2,  4,  6,  8, 10, 12, 14, 16, 18])"
            ]
          },
          "metadata": {},
          "execution_count": 104
        }
      ]
    },
    {
      "cell_type": "code",
      "metadata": {
        "colab": {
          "base_uri": "https://localhost:8080/"
        },
        "id": "vFFBhkLJ6KaB",
        "outputId": "737467b9-6eb8-4d06-9efc-1bfa877a63a8"
      },
      "source": [
        "arr - arr"
      ],
      "execution_count": 106,
      "outputs": [
        {
          "output_type": "execute_result",
          "data": {
            "text/plain": [
              "array([0, 0, 0, 0, 0, 0, 0, 0, 0, 0])"
            ]
          },
          "metadata": {},
          "execution_count": 106
        }
      ]
    },
    {
      "cell_type": "code",
      "metadata": {
        "colab": {
          "base_uri": "https://localhost:8080/"
        },
        "id": "aatDNq6m6NNF",
        "outputId": "86cf9363-0290-4ed5-ecb5-ab2b2b917668"
      },
      "source": [
        "arr / arr"
      ],
      "execution_count": 107,
      "outputs": [
        {
          "output_type": "stream",
          "name": "stderr",
          "text": [
            "/usr/local/lib/python3.7/dist-packages/ipykernel_launcher.py:1: RuntimeWarning: invalid value encountered in true_divide\n",
            "  \"\"\"Entry point for launching an IPython kernel.\n"
          ]
        },
        {
          "output_type": "execute_result",
          "data": {
            "text/plain": [
              "array([nan,  1.,  1.,  1.,  1.,  1.,  1.,  1.,  1.,  1.])"
            ]
          },
          "metadata": {},
          "execution_count": 107
        }
      ]
    },
    {
      "cell_type": "code",
      "metadata": {
        "colab": {
          "base_uri": "https://localhost:8080/"
        },
        "id": "HA4xVZja6PD_",
        "outputId": "26dde56e-ec09-4a7f-b35f-b563b89887cd"
      },
      "source": [
        "arr *  arr + 150"
      ],
      "execution_count": 109,
      "outputs": [
        {
          "output_type": "execute_result",
          "data": {
            "text/plain": [
              "array([150, 151, 154, 159, 166, 175, 186, 199, 214, 231])"
            ]
          },
          "metadata": {},
          "execution_count": 109
        }
      ]
    },
    {
      "cell_type": "code",
      "metadata": {
        "colab": {
          "base_uri": "https://localhost:8080/"
        },
        "id": "7OphyFMB6TIl",
        "outputId": "079dd330-f0d5-4008-f0c7-c052a51911bd"
      },
      "source": [
        "np.sqrt(arr)"
      ],
      "execution_count": 110,
      "outputs": [
        {
          "output_type": "execute_result",
          "data": {
            "text/plain": [
              "array([0.        , 1.        , 1.41421356, 1.73205081, 2.        ,\n",
              "       2.23606798, 2.44948974, 2.64575131, 2.82842712, 3.        ])"
            ]
          },
          "metadata": {},
          "execution_count": 110
        }
      ]
    },
    {
      "cell_type": "code",
      "metadata": {
        "colab": {
          "base_uri": "https://localhost:8080/"
        },
        "id": "2yDag9bG6qaf",
        "outputId": "e6ae4082-a2b3-4730-bdbf-767bc728a268"
      },
      "source": [
        "np.sin(arr)"
      ],
      "execution_count": 111,
      "outputs": [
        {
          "output_type": "execute_result",
          "data": {
            "text/plain": [
              "array([ 0.        ,  0.84147098,  0.90929743,  0.14112001, -0.7568025 ,\n",
              "       -0.95892427, -0.2794155 ,  0.6569866 ,  0.98935825,  0.41211849])"
            ]
          },
          "metadata": {},
          "execution_count": 111
        }
      ]
    },
    {
      "cell_type": "code",
      "metadata": {
        "colab": {
          "base_uri": "https://localhost:8080/"
        },
        "id": "S3hIk8TN6saU",
        "outputId": "fa4b2019-00a2-4410-e7f6-6d3e1ac20560"
      },
      "source": [
        "np.cos(arr)"
      ],
      "execution_count": 112,
      "outputs": [
        {
          "output_type": "execute_result",
          "data": {
            "text/plain": [
              "array([ 1.        ,  0.54030231, -0.41614684, -0.9899925 , -0.65364362,\n",
              "        0.28366219,  0.96017029,  0.75390225, -0.14550003, -0.91113026])"
            ]
          },
          "metadata": {},
          "execution_count": 112
        }
      ]
    },
    {
      "cell_type": "code",
      "metadata": {
        "colab": {
          "base_uri": "https://localhost:8080/"
        },
        "id": "D9x3npmh6uGZ",
        "outputId": "b7710884-9326-4a48-f394-c894ffe8c939"
      },
      "source": [
        "np.cosh(arr)"
      ],
      "execution_count": 113,
      "outputs": [
        {
          "output_type": "execute_result",
          "data": {
            "text/plain": [
              "array([1.00000000e+00, 1.54308063e+00, 3.76219569e+00, 1.00676620e+01,\n",
              "       2.73082328e+01, 7.42099485e+01, 2.01715636e+02, 5.48317035e+02,\n",
              "       1.49047916e+03, 4.05154203e+03])"
            ]
          },
          "metadata": {},
          "execution_count": 113
        }
      ]
    },
    {
      "cell_type": "code",
      "metadata": {
        "colab": {
          "base_uri": "https://localhost:8080/"
        },
        "id": "KQn4MILB6wvI",
        "outputId": "a90a57ea-a34d-4bb3-be25-01994c8c8e43"
      },
      "source": [
        "np.sinc(arr)"
      ],
      "execution_count": 114,
      "outputs": [
        {
          "output_type": "execute_result",
          "data": {
            "text/plain": [
              "array([ 1.00000000e+00,  3.89817183e-17, -3.89817183e-17,  3.89817183e-17,\n",
              "       -3.89817183e-17,  3.89817183e-17, -3.89817183e-17,  3.89817183e-17,\n",
              "       -3.89817183e-17,  3.89817183e-17])"
            ]
          },
          "metadata": {},
          "execution_count": 114
        }
      ]
    },
    {
      "cell_type": "code",
      "metadata": {
        "colab": {
          "base_uri": "https://localhost:8080/"
        },
        "id": "kxb8J_46605q",
        "outputId": "bac26b7d-f673-4169-f0bb-07b63bec85fc"
      },
      "source": [
        "arr.sum()"
      ],
      "execution_count": 115,
      "outputs": [
        {
          "output_type": "execute_result",
          "data": {
            "text/plain": [
              "45"
            ]
          },
          "metadata": {},
          "execution_count": 115
        }
      ]
    },
    {
      "cell_type": "code",
      "metadata": {
        "colab": {
          "base_uri": "https://localhost:8080/"
        },
        "id": "RIVkg6lw68O2",
        "outputId": "2d6d80c0-e8b0-4076-b4f0-b427c2216750"
      },
      "source": [
        "arr.mean()"
      ],
      "execution_count": 116,
      "outputs": [
        {
          "output_type": "execute_result",
          "data": {
            "text/plain": [
              "4.5"
            ]
          },
          "metadata": {},
          "execution_count": 116
        }
      ]
    },
    {
      "cell_type": "code",
      "metadata": {
        "colab": {
          "base_uri": "https://localhost:8080/"
        },
        "id": "pnwh2h-q6916",
        "outputId": "a9a05fe9-13e9-47fe-c757-82589a66c338"
      },
      "source": [
        "arr.mean()"
      ],
      "execution_count": 117,
      "outputs": [
        {
          "output_type": "execute_result",
          "data": {
            "text/plain": [
              "4.5"
            ]
          },
          "metadata": {},
          "execution_count": 117
        }
      ]
    },
    {
      "cell_type": "code",
      "metadata": {
        "colab": {
          "base_uri": "https://localhost:8080/"
        },
        "id": "vqNVk02f6_-A",
        "outputId": "4d65dcb0-502e-4234-ae03-75256661804f"
      },
      "source": [
        "arr.std()"
      ],
      "execution_count": 118,
      "outputs": [
        {
          "output_type": "execute_result",
          "data": {
            "text/plain": [
              "2.8722813232690143"
            ]
          },
          "metadata": {},
          "execution_count": 118
        }
      ]
    },
    {
      "cell_type": "code",
      "metadata": {
        "colab": {
          "base_uri": "https://localhost:8080/"
        },
        "id": "fxxzXnF-7CpQ",
        "outputId": "d7e7ed31-f3e1-402a-e6ad-731df0f1fd54"
      },
      "source": [
        "arr.max()"
      ],
      "execution_count": 119,
      "outputs": [
        {
          "output_type": "execute_result",
          "data": {
            "text/plain": [
              "9"
            ]
          },
          "metadata": {},
          "execution_count": 119
        }
      ]
    },
    {
      "cell_type": "code",
      "metadata": {
        "colab": {
          "base_uri": "https://localhost:8080/"
        },
        "id": "Q-C7jj9h7EEa",
        "outputId": "4ccb36f7-be26-44ed-80a5-774cba99efe8"
      },
      "source": [
        "arr.min()"
      ],
      "execution_count": 120,
      "outputs": [
        {
          "output_type": "execute_result",
          "data": {
            "text/plain": [
              "0"
            ]
          },
          "metadata": {},
          "execution_count": 120
        }
      ]
    },
    {
      "cell_type": "code",
      "metadata": {
        "colab": {
          "base_uri": "https://localhost:8080/"
        },
        "id": "Ys12OXR27GGU",
        "outputId": "1731cbbc-68fa-478b-e686-dee8b33e758d"
      },
      "source": [
        "np.arange(0,25).reshape(5,5)"
      ],
      "execution_count": 121,
      "outputs": [
        {
          "output_type": "execute_result",
          "data": {
            "text/plain": [
              "array([[ 0,  1,  2,  3,  4],\n",
              "       [ 5,  6,  7,  8,  9],\n",
              "       [10, 11, 12, 13, 14],\n",
              "       [15, 16, 17, 18, 19],\n",
              "       [20, 21, 22, 23, 24]])"
            ]
          },
          "metadata": {},
          "execution_count": 121
        }
      ]
    },
    {
      "cell_type": "code",
      "metadata": {
        "id": "pFmRd1ov7L-B"
      },
      "source": [
        "arr_3d = np.arange(0,25).reshape(5,5)"
      ],
      "execution_count": 123,
      "outputs": []
    },
    {
      "cell_type": "code",
      "metadata": {
        "colab": {
          "base_uri": "https://localhost:8080/"
        },
        "id": "WAT5COf_7Siw",
        "outputId": "e2f3bc00-ff14-4fdc-afc9-63e8c18618a2"
      },
      "source": [
        "arr_3d.sum()"
      ],
      "execution_count": 124,
      "outputs": [
        {
          "output_type": "execute_result",
          "data": {
            "text/plain": [
              "300"
            ]
          },
          "metadata": {},
          "execution_count": 124
        }
      ]
    },
    {
      "cell_type": "code",
      "metadata": {
        "colab": {
          "base_uri": "https://localhost:8080/"
        },
        "id": "ZiaLdVhf7X1t",
        "outputId": "b39e0418-9f9f-46f3-a56a-8e786c7a373d"
      },
      "source": [
        "arr_3d.sum(axis=0)"
      ],
      "execution_count": 125,
      "outputs": [
        {
          "output_type": "execute_result",
          "data": {
            "text/plain": [
              "array([50, 55, 60, 65, 70])"
            ]
          },
          "metadata": {},
          "execution_count": 125
        }
      ]
    },
    {
      "cell_type": "code",
      "metadata": {
        "colab": {
          "base_uri": "https://localhost:8080/"
        },
        "id": "XSJu4HlM7Viy",
        "outputId": "ff4e5d3a-7c37-4bc2-85e5-678ff1d5c4e8"
      },
      "source": [
        "arr_3d.sum(axis=1)"
      ],
      "execution_count": 126,
      "outputs": [
        {
          "output_type": "execute_result",
          "data": {
            "text/plain": [
              "array([ 10,  35,  60,  85, 110])"
            ]
          },
          "metadata": {},
          "execution_count": 126
        }
      ]
    },
    {
      "cell_type": "code",
      "metadata": {
        "colab": {
          "base_uri": "https://localhost:8080/"
        },
        "id": "HeY8xDpk7mST",
        "outputId": "82e7bca1-d192-44ff-a9d5-5326d4efb245"
      },
      "source": [
        "np.zeros(10)"
      ],
      "execution_count": 127,
      "outputs": [
        {
          "output_type": "execute_result",
          "data": {
            "text/plain": [
              "array([0., 0., 0., 0., 0., 0., 0., 0., 0., 0.])"
            ]
          },
          "metadata": {},
          "execution_count": 127
        }
      ]
    },
    {
      "cell_type": "code",
      "metadata": {
        "colab": {
          "base_uri": "https://localhost:8080/"
        },
        "id": "1FXSLbsO8Cf4",
        "outputId": "36856c5a-9c85-4d34-ddbf-adb231dfa729"
      },
      "source": [
        "np.ones(10) * 5"
      ],
      "execution_count": 128,
      "outputs": [
        {
          "output_type": "execute_result",
          "data": {
            "text/plain": [
              "array([5., 5., 5., 5., 5., 5., 5., 5., 5., 5.])"
            ]
          },
          "metadata": {},
          "execution_count": 128
        }
      ]
    },
    {
      "cell_type": "code",
      "metadata": {
        "colab": {
          "base_uri": "https://localhost:8080/"
        },
        "id": "VejVbXlk8Jzz",
        "outputId": "3e24c989-4ec2-4377-ca67-1df2be8e47e5"
      },
      "source": [
        "np.arange(10,51)"
      ],
      "execution_count": 129,
      "outputs": [
        {
          "output_type": "execute_result",
          "data": {
            "text/plain": [
              "array([10, 11, 12, 13, 14, 15, 16, 17, 18, 19, 20, 21, 22, 23, 24, 25, 26,\n",
              "       27, 28, 29, 30, 31, 32, 33, 34, 35, 36, 37, 38, 39, 40, 41, 42, 43,\n",
              "       44, 45, 46, 47, 48, 49, 50])"
            ]
          },
          "metadata": {},
          "execution_count": 129
        }
      ]
    },
    {
      "cell_type": "code",
      "metadata": {
        "colab": {
          "base_uri": "https://localhost:8080/"
        },
        "id": "2LItzv_j8POb",
        "outputId": "39d7a7a4-d9a4-4299-ca32-dd23fa7114c3"
      },
      "source": [
        "np.arange(10,50,2)"
      ],
      "execution_count": 130,
      "outputs": [
        {
          "output_type": "execute_result",
          "data": {
            "text/plain": [
              "array([10, 12, 14, 16, 18, 20, 22, 24, 26, 28, 30, 32, 34, 36, 38, 40, 42,\n",
              "       44, 46, 48])"
            ]
          },
          "metadata": {},
          "execution_count": 130
        }
      ]
    },
    {
      "cell_type": "code",
      "metadata": {
        "colab": {
          "base_uri": "https://localhost:8080/"
        },
        "id": "G7-kLI-48SmA",
        "outputId": "e46ebafb-c27d-4219-f782-0125efe3ba9f"
      },
      "source": [
        "np.arange(9).reshape(3,3)"
      ],
      "execution_count": 131,
      "outputs": [
        {
          "output_type": "execute_result",
          "data": {
            "text/plain": [
              "array([[0, 1, 2],\n",
              "       [3, 4, 5],\n",
              "       [6, 7, 8]])"
            ]
          },
          "metadata": {},
          "execution_count": 131
        }
      ]
    },
    {
      "cell_type": "code",
      "metadata": {
        "colab": {
          "base_uri": "https://localhost:8080/"
        },
        "id": "hjwqw7Qf8ZA8",
        "outputId": "2ac00139-bdfc-4714-a2c5-05e54efb6b6d"
      },
      "source": [
        "np.eye(3)"
      ],
      "execution_count": 132,
      "outputs": [
        {
          "output_type": "execute_result",
          "data": {
            "text/plain": [
              "array([[1., 0., 0.],\n",
              "       [0., 1., 0.],\n",
              "       [0., 0., 1.]])"
            ]
          },
          "metadata": {},
          "execution_count": 132
        }
      ]
    },
    {
      "cell_type": "code",
      "metadata": {
        "colab": {
          "base_uri": "https://localhost:8080/"
        },
        "id": "ccMgHBxl8bOx",
        "outputId": "807ccaea-b17d-450b-ef79-124424dcb05c"
      },
      "source": [
        "np.random.rand(1)"
      ],
      "execution_count": 133,
      "outputs": [
        {
          "output_type": "execute_result",
          "data": {
            "text/plain": [
              "array([0.91663181])"
            ]
          },
          "metadata": {},
          "execution_count": 133
        }
      ]
    },
    {
      "cell_type": "code",
      "metadata": {
        "colab": {
          "base_uri": "https://localhost:8080/"
        },
        "id": "xqplKl5T8eaN",
        "outputId": "90c9a38c-53e9-45f6-fd80-1ce88c936245"
      },
      "source": [
        "np.random.randn(25)"
      ],
      "execution_count": 134,
      "outputs": [
        {
          "output_type": "execute_result",
          "data": {
            "text/plain": [
              "array([ 0.05513006,  0.87392396,  2.04422225, -0.24237061,  0.26355169,\n",
              "       -1.55965126, -0.21145083,  0.23927092,  0.09105838,  0.56207583,\n",
              "        0.94441992,  1.33708981, -1.44076818, -1.16033082, -0.36190042,\n",
              "        0.62632382, -0.44429199,  0.17076588, -0.72719763,  0.67971892,\n",
              "       -1.47450754, -0.2407805 , -0.33213663, -0.17548503,  1.37306053])"
            ]
          },
          "metadata": {},
          "execution_count": 134
        }
      ]
    },
    {
      "cell_type": "code",
      "metadata": {
        "id": "NJKQ8tgI8inU"
      },
      "source": [
        "arr = np.arange(1,101) / 100"
      ],
      "execution_count": 136,
      "outputs": []
    },
    {
      "cell_type": "code",
      "metadata": {
        "colab": {
          "base_uri": "https://localhost:8080/"
        },
        "id": "xsfH1dhd8qvQ",
        "outputId": "c129a22a-1f1d-4081-95c4-e60643c2c94b"
      },
      "source": [
        "arr.reshape(10,10)"
      ],
      "execution_count": 138,
      "outputs": [
        {
          "output_type": "execute_result",
          "data": {
            "text/plain": [
              "array([[0.01, 0.02, 0.03, 0.04, 0.05, 0.06, 0.07, 0.08, 0.09, 0.1 ],\n",
              "       [0.11, 0.12, 0.13, 0.14, 0.15, 0.16, 0.17, 0.18, 0.19, 0.2 ],\n",
              "       [0.21, 0.22, 0.23, 0.24, 0.25, 0.26, 0.27, 0.28, 0.29, 0.3 ],\n",
              "       [0.31, 0.32, 0.33, 0.34, 0.35, 0.36, 0.37, 0.38, 0.39, 0.4 ],\n",
              "       [0.41, 0.42, 0.43, 0.44, 0.45, 0.46, 0.47, 0.48, 0.49, 0.5 ],\n",
              "       [0.51, 0.52, 0.53, 0.54, 0.55, 0.56, 0.57, 0.58, 0.59, 0.6 ],\n",
              "       [0.61, 0.62, 0.63, 0.64, 0.65, 0.66, 0.67, 0.68, 0.69, 0.7 ],\n",
              "       [0.71, 0.72, 0.73, 0.74, 0.75, 0.76, 0.77, 0.78, 0.79, 0.8 ],\n",
              "       [0.81, 0.82, 0.83, 0.84, 0.85, 0.86, 0.87, 0.88, 0.89, 0.9 ],\n",
              "       [0.91, 0.92, 0.93, 0.94, 0.95, 0.96, 0.97, 0.98, 0.99, 1.  ]])"
            ]
          },
          "metadata": {},
          "execution_count": 138
        }
      ]
    },
    {
      "cell_type": "code",
      "metadata": {
        "colab": {
          "base_uri": "https://localhost:8080/"
        },
        "id": "QSTeMFS48zPI",
        "outputId": "9d9b28fb-57b4-4409-fbcc-95a885294e21"
      },
      "source": [
        "np.linspace(0,1,20)"
      ],
      "execution_count": 139,
      "outputs": [
        {
          "output_type": "execute_result",
          "data": {
            "text/plain": [
              "array([0.        , 0.05263158, 0.10526316, 0.15789474, 0.21052632,\n",
              "       0.26315789, 0.31578947, 0.36842105, 0.42105263, 0.47368421,\n",
              "       0.52631579, 0.57894737, 0.63157895, 0.68421053, 0.73684211,\n",
              "       0.78947368, 0.84210526, 0.89473684, 0.94736842, 1.        ])"
            ]
          },
          "metadata": {},
          "execution_count": 139
        }
      ]
    },
    {
      "cell_type": "code",
      "metadata": {
        "id": "etZCNnTS869G"
      },
      "source": [
        "mat = np.arange(1,26).reshape(5,5)"
      ],
      "execution_count": 140,
      "outputs": []
    },
    {
      "cell_type": "code",
      "metadata": {
        "colab": {
          "base_uri": "https://localhost:8080/"
        },
        "id": "t2bXXbC29OfJ",
        "outputId": "f2c8f792-cfb4-433f-fd54-ccd7d41663e9"
      },
      "source": [
        "mat"
      ],
      "execution_count": 141,
      "outputs": [
        {
          "output_type": "execute_result",
          "data": {
            "text/plain": [
              "array([[ 1,  2,  3,  4,  5],\n",
              "       [ 6,  7,  8,  9, 10],\n",
              "       [11, 12, 13, 14, 15],\n",
              "       [16, 17, 18, 19, 20],\n",
              "       [21, 22, 23, 24, 25]])"
            ]
          },
          "metadata": {},
          "execution_count": 141
        }
      ]
    },
    {
      "cell_type": "code",
      "metadata": {
        "colab": {
          "base_uri": "https://localhost:8080/"
        },
        "id": "8R_umHX_9PYE",
        "outputId": "467732cd-16d6-42f6-ed2d-e4d212448bfe"
      },
      "source": [
        "mat[2:,1:]"
      ],
      "execution_count": 142,
      "outputs": [
        {
          "output_type": "execute_result",
          "data": {
            "text/plain": [
              "array([[12, 13, 14, 15],\n",
              "       [17, 18, 19, 20],\n",
              "       [22, 23, 24, 25]])"
            ]
          },
          "metadata": {},
          "execution_count": 142
        }
      ]
    },
    {
      "cell_type": "code",
      "metadata": {
        "colab": {
          "base_uri": "https://localhost:8080/"
        },
        "id": "uvPkyLPN9bro",
        "outputId": "20ff6e7e-157e-4689-ec1d-fbd52b24eb1a"
      },
      "source": [
        "mat[3:4]"
      ],
      "execution_count": 143,
      "outputs": [
        {
          "output_type": "execute_result",
          "data": {
            "text/plain": [
              "array([[16, 17, 18, 19, 20]])"
            ]
          },
          "metadata": {},
          "execution_count": 143
        }
      ]
    },
    {
      "cell_type": "code",
      "metadata": {
        "colab": {
          "base_uri": "https://localhost:8080/"
        },
        "id": "26HHl6Sr9duu",
        "outputId": "553c7084-fc03-499a-ac4f-ba5af3c442f5"
      },
      "source": [
        "mat[:3,1:2]"
      ],
      "execution_count": 144,
      "outputs": [
        {
          "output_type": "execute_result",
          "data": {
            "text/plain": [
              "array([[ 2],\n",
              "       [ 7],\n",
              "       [12]])"
            ]
          },
          "metadata": {},
          "execution_count": 144
        }
      ]
    },
    {
      "cell_type": "code",
      "metadata": {
        "colab": {
          "base_uri": "https://localhost:8080/"
        },
        "id": "qo0UfMcJ9l2H",
        "outputId": "d4dc432a-d5db-47e0-df0a-f0462be96bbe"
      },
      "source": [
        "mat[4,:]"
      ],
      "execution_count": 145,
      "outputs": [
        {
          "output_type": "execute_result",
          "data": {
            "text/plain": [
              "array([21, 22, 23, 24, 25])"
            ]
          },
          "metadata": {},
          "execution_count": 145
        }
      ]
    },
    {
      "cell_type": "code",
      "metadata": {
        "colab": {
          "base_uri": "https://localhost:8080/"
        },
        "id": "09YU9DnD9sbq",
        "outputId": "27a3e8a7-94eb-43ec-d7c7-a007946d4449"
      },
      "source": [
        "mat[3:5]"
      ],
      "execution_count": 146,
      "outputs": [
        {
          "output_type": "execute_result",
          "data": {
            "text/plain": [
              "array([[16, 17, 18, 19, 20],\n",
              "       [21, 22, 23, 24, 25]])"
            ]
          },
          "metadata": {},
          "execution_count": 146
        }
      ]
    },
    {
      "cell_type": "code",
      "metadata": {
        "colab": {
          "base_uri": "https://localhost:8080/"
        },
        "id": "71fQ9WkO9xYa",
        "outputId": "c939ad6f-3257-4115-8791-fe90c5125a8e"
      },
      "source": [
        "mat.sum()"
      ],
      "execution_count": 148,
      "outputs": [
        {
          "output_type": "execute_result",
          "data": {
            "text/plain": [
              "325"
            ]
          },
          "metadata": {},
          "execution_count": 148
        }
      ]
    },
    {
      "cell_type": "code",
      "metadata": {
        "colab": {
          "base_uri": "https://localhost:8080/"
        },
        "id": "YMgzbjEN9zNt",
        "outputId": "77da8995-ca6c-4668-b05d-cba9c1d3942f"
      },
      "source": [
        "mat.std()"
      ],
      "execution_count": 149,
      "outputs": [
        {
          "output_type": "execute_result",
          "data": {
            "text/plain": [
              "7.211102550927978"
            ]
          },
          "metadata": {},
          "execution_count": 149
        }
      ]
    },
    {
      "cell_type": "code",
      "metadata": {
        "colab": {
          "base_uri": "https://localhost:8080/"
        },
        "id": "MjEGgUGZ96k_",
        "outputId": "2f9690ae-7cf0-4b13-d310-a1d6b0bf71f4"
      },
      "source": [
        "mat.sum(axis=1)"
      ],
      "execution_count": 150,
      "outputs": [
        {
          "output_type": "execute_result",
          "data": {
            "text/plain": [
              "array([ 15,  40,  65,  90, 115])"
            ]
          },
          "metadata": {},
          "execution_count": 150
        }
      ]
    },
    {
      "cell_type": "code",
      "metadata": {
        "id": "G4jMMamn99GL"
      },
      "source": [
        ""
      ],
      "execution_count": null,
      "outputs": []
    }
  ]
}