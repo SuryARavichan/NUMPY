{
  "nbformat": 4,
  "nbformat_minor": 0,
  "metadata": {
    "colab": {
      "name": "NUMPY.ipynb",
      "provenance": [],
      "authorship_tag": "ABX9TyOxDNaXxnlQV5cSC/y6poyg",
      "include_colab_link": true
    },
    "kernelspec": {
      "name": "python3",
      "display_name": "Python 3"
    },
    "language_info": {
      "name": "python"
    }
  },
  "cells": [
    {
      "cell_type": "markdown",
      "metadata": {
        "id": "view-in-github",
        "colab_type": "text"
      },
      "source": [
        "<a href=\"https://colab.research.google.com/github/SuryARavichan/NUMPY/blob/main/NUMPY.ipynb\" target=\"_parent\"><img src=\"https://colab.research.google.com/assets/colab-badge.svg\" alt=\"Open In Colab\"/></a>"
      ]
    },
    {
      "cell_type": "code",
      "execution_count": 1,
      "metadata": {
        "id": "2eRe2oajAUJq"
      },
      "outputs": [],
      "source": [
        "import numpy as np"
      ]
    },
    {
      "cell_type": "code",
      "source": [
        "mylist = [1,2,3]"
      ],
      "metadata": {
        "id": "BrrZkGhzEhSQ"
      },
      "execution_count": 2,
      "outputs": []
    },
    {
      "cell_type": "code",
      "source": [
        "type(mylist)"
      ],
      "metadata": {
        "colab": {
          "base_uri": "https://localhost:8080/"
        },
        "id": "mtSzsydDEuk3",
        "outputId": "72b6e12b-48c0-42a0-91a5-8e979e5924ae"
      },
      "execution_count": 3,
      "outputs": [
        {
          "output_type": "execute_result",
          "data": {
            "text/plain": [
              "list"
            ]
          },
          "metadata": {},
          "execution_count": 3
        }
      ]
    },
    {
      "cell_type": "code",
      "source": [
        "np.array(mylist)"
      ],
      "metadata": {
        "colab": {
          "base_uri": "https://localhost:8080/"
        },
        "id": "zjBg-EctEwHV",
        "outputId": "627a5c12-d73d-4afe-b281-09897bee6f63"
      },
      "execution_count": 4,
      "outputs": [
        {
          "output_type": "execute_result",
          "data": {
            "text/plain": [
              "array([1, 2, 3])"
            ]
          },
          "metadata": {},
          "execution_count": 4
        }
      ]
    },
    {
      "cell_type": "code",
      "source": [
        "myarray = np.array(mylist)"
      ],
      "metadata": {
        "id": "1Pb5YIagEzZI"
      },
      "execution_count": 5,
      "outputs": []
    },
    {
      "cell_type": "code",
      "source": [
        "myarray"
      ],
      "metadata": {
        "colab": {
          "base_uri": "https://localhost:8080/"
        },
        "id": "CZtBXva1E3Z7",
        "outputId": "45bea517-a66a-424e-87dd-4ebdde5e7463"
      },
      "execution_count": 6,
      "outputs": [
        {
          "output_type": "execute_result",
          "data": {
            "text/plain": [
              "array([1, 2, 3])"
            ]
          },
          "metadata": {},
          "execution_count": 6
        }
      ]
    },
    {
      "cell_type": "code",
      "source": [
        "type(myarray)"
      ],
      "metadata": {
        "colab": {
          "base_uri": "https://localhost:8080/"
        },
        "id": "uOXaqNEHE4jg",
        "outputId": "697c1493-c561-437e-c838-154214655fdc"
      },
      "execution_count": 7,
      "outputs": [
        {
          "output_type": "execute_result",
          "data": {
            "text/plain": [
              "numpy.ndarray"
            ]
          },
          "metadata": {},
          "execution_count": 7
        }
      ]
    },
    {
      "cell_type": "code",
      "source": [
        "mymatrix = [[1,2,3],[4,5,6],[7,8,9]]"
      ],
      "metadata": {
        "id": "lmzWv7E4E6b5"
      },
      "execution_count": 8,
      "outputs": []
    },
    {
      "cell_type": "code",
      "source": [
        "np.array(mymatrix)"
      ],
      "metadata": {
        "colab": {
          "base_uri": "https://localhost:8080/"
        },
        "id": "Cktq4pHgFCFr",
        "outputId": "cf19a91f-050f-4342-df99-4447a6990f09"
      },
      "execution_count": 9,
      "outputs": [
        {
          "output_type": "execute_result",
          "data": {
            "text/plain": [
              "array([[1, 2, 3],\n",
              "       [4, 5, 6],\n",
              "       [7, 8, 9]])"
            ]
          },
          "metadata": {},
          "execution_count": 9
        }
      ]
    },
    {
      "cell_type": "code",
      "source": [
        "type(mymatrix)"
      ],
      "metadata": {
        "colab": {
          "base_uri": "https://localhost:8080/"
        },
        "id": "0NJJKCbvFEfi",
        "outputId": "28f9b4e4-6e27-4501-c2df-a3f8861be4dc"
      },
      "execution_count": 10,
      "outputs": [
        {
          "output_type": "execute_result",
          "data": {
            "text/plain": [
              "list"
            ]
          },
          "metadata": {},
          "execution_count": 10
        }
      ]
    },
    {
      "cell_type": "code",
      "source": [
        "np.arange(0,150,28)\n"
      ],
      "metadata": {
        "colab": {
          "base_uri": "https://localhost:8080/"
        },
        "id": "LLBBZgcaFJLw",
        "outputId": "372518cc-7646-4db2-eef0-06b12a9841ce"
      },
      "execution_count": 13,
      "outputs": [
        {
          "output_type": "execute_result",
          "data": {
            "text/plain": [
              "array([  0,  28,  56,  84, 112, 140])"
            ]
          },
          "metadata": {},
          "execution_count": 13
        }
      ]
    },
    {
      "cell_type": "code",
      "source": [
        "np.zeros(5)"
      ],
      "metadata": {
        "colab": {
          "base_uri": "https://localhost:8080/"
        },
        "id": "dzDm9zqmFSqC",
        "outputId": "4e2904fe-cb5c-46d8-8ea1-be0d0136148b"
      },
      "execution_count": 14,
      "outputs": [
        {
          "output_type": "execute_result",
          "data": {
            "text/plain": [
              "array([0., 0., 0., 0., 0.])"
            ]
          },
          "metadata": {},
          "execution_count": 14
        }
      ]
    },
    {
      "cell_type": "code",
      "source": [
        "np.zeros(16)"
      ],
      "metadata": {
        "colab": {
          "base_uri": "https://localhost:8080/"
        },
        "id": "ngeACH3dFkWh",
        "outputId": "77c454f4-9fb9-4531-daf6-67b260ed55fd"
      },
      "execution_count": 15,
      "outputs": [
        {
          "output_type": "execute_result",
          "data": {
            "text/plain": [
              "array([0., 0., 0., 0., 0., 0., 0., 0., 0., 0., 0., 0., 0., 0., 0., 0.])"
            ]
          },
          "metadata": {},
          "execution_count": 15
        }
      ]
    },
    {
      "cell_type": "code",
      "source": [
        "np.zeros((7,7))\n"
      ],
      "metadata": {
        "colab": {
          "base_uri": "https://localhost:8080/"
        },
        "id": "Qks4Yi-yFnA4",
        "outputId": "6d33c0ca-9aac-441a-c583-08872a0e77e9"
      },
      "execution_count": 17,
      "outputs": [
        {
          "output_type": "execute_result",
          "data": {
            "text/plain": [
              "array([[0., 0., 0., 0., 0., 0., 0.],\n",
              "       [0., 0., 0., 0., 0., 0., 0.],\n",
              "       [0., 0., 0., 0., 0., 0., 0.],\n",
              "       [0., 0., 0., 0., 0., 0., 0.],\n",
              "       [0., 0., 0., 0., 0., 0., 0.],\n",
              "       [0., 0., 0., 0., 0., 0., 0.],\n",
              "       [0., 0., 0., 0., 0., 0., 0.]])"
            ]
          },
          "metadata": {},
          "execution_count": 17
        }
      ]
    },
    {
      "cell_type": "code",
      "source": [
        "np.ones(8)"
      ],
      "metadata": {
        "colab": {
          "base_uri": "https://localhost:8080/"
        },
        "id": "RO8Il-60FrPQ",
        "outputId": "2a060c14-fbd9-4106-8e4c-e7831ca07ec5"
      },
      "execution_count": 18,
      "outputs": [
        {
          "output_type": "execute_result",
          "data": {
            "text/plain": [
              "array([1., 1., 1., 1., 1., 1., 1., 1.])"
            ]
          },
          "metadata": {},
          "execution_count": 18
        }
      ]
    },
    {
      "cell_type": "code",
      "source": [
        "np.ones((9,9))\n"
      ],
      "metadata": {
        "colab": {
          "base_uri": "https://localhost:8080/"
        },
        "id": "1Df1kQKiFz1k",
        "outputId": "e16d26c0-7848-404c-ec37-bfb584ffb18e"
      },
      "execution_count": 19,
      "outputs": [
        {
          "output_type": "execute_result",
          "data": {
            "text/plain": [
              "array([[1., 1., 1., 1., 1., 1., 1., 1., 1.],\n",
              "       [1., 1., 1., 1., 1., 1., 1., 1., 1.],\n",
              "       [1., 1., 1., 1., 1., 1., 1., 1., 1.],\n",
              "       [1., 1., 1., 1., 1., 1., 1., 1., 1.],\n",
              "       [1., 1., 1., 1., 1., 1., 1., 1., 1.],\n",
              "       [1., 1., 1., 1., 1., 1., 1., 1., 1.],\n",
              "       [1., 1., 1., 1., 1., 1., 1., 1., 1.],\n",
              "       [1., 1., 1., 1., 1., 1., 1., 1., 1.],\n",
              "       [1., 1., 1., 1., 1., 1., 1., 1., 1.]])"
            ]
          },
          "metadata": {},
          "execution_count": 19
        }
      ]
    },
    {
      "cell_type": "code",
      "source": [
        "np.linspace(5,30)\n"
      ],
      "metadata": {
        "colab": {
          "base_uri": "https://localhost:8080/"
        },
        "id": "b2P_B3RnF2jq",
        "outputId": "a23a1f57-d2ae-42c6-aa07-254c93137c26"
      },
      "execution_count": 20,
      "outputs": [
        {
          "output_type": "execute_result",
          "data": {
            "text/plain": [
              "array([ 5.        ,  5.51020408,  6.02040816,  6.53061224,  7.04081633,\n",
              "        7.55102041,  8.06122449,  8.57142857,  9.08163265,  9.59183673,\n",
              "       10.10204082, 10.6122449 , 11.12244898, 11.63265306, 12.14285714,\n",
              "       12.65306122, 13.16326531, 13.67346939, 14.18367347, 14.69387755,\n",
              "       15.20408163, 15.71428571, 16.2244898 , 16.73469388, 17.24489796,\n",
              "       17.75510204, 18.26530612, 18.7755102 , 19.28571429, 19.79591837,\n",
              "       20.30612245, 20.81632653, 21.32653061, 21.83673469, 22.34693878,\n",
              "       22.85714286, 23.36734694, 23.87755102, 24.3877551 , 24.89795918,\n",
              "       25.40816327, 25.91836735, 26.42857143, 26.93877551, 27.44897959,\n",
              "       27.95918367, 28.46938776, 28.97959184, 29.48979592, 30.        ])"
            ]
          },
          "metadata": {},
          "execution_count": 20
        }
      ]
    },
    {
      "cell_type": "code",
      "source": [
        "np.linspace(67,120,13)"
      ],
      "metadata": {
        "colab": {
          "base_uri": "https://localhost:8080/"
        },
        "id": "-owbkqw2F9zh",
        "outputId": "be3c84bd-5674-4655-f458-bd630bfcf81e"
      },
      "execution_count": 22,
      "outputs": [
        {
          "output_type": "execute_result",
          "data": {
            "text/plain": [
              "array([ 67.        ,  71.41666667,  75.83333333,  80.25      ,\n",
              "        84.66666667,  89.08333333,  93.5       ,  97.91666667,\n",
              "       102.33333333, 106.75      , 111.16666667, 115.58333333,\n",
              "       120.        ])"
            ]
          },
          "metadata": {},
          "execution_count": 22
        }
      ]
    },
    {
      "cell_type": "code",
      "source": [
        "np.linspace(0,5,21)"
      ],
      "metadata": {
        "colab": {
          "base_uri": "https://localhost:8080/"
        },
        "id": "2tbpJZSOGDFR",
        "outputId": "f1fc9123-1280-4ff3-f390-864148d38680"
      },
      "execution_count": 23,
      "outputs": [
        {
          "output_type": "execute_result",
          "data": {
            "text/plain": [
              "array([0.  , 0.25, 0.5 , 0.75, 1.  , 1.25, 1.5 , 1.75, 2.  , 2.25, 2.5 ,\n",
              "       2.75, 3.  , 3.25, 3.5 , 3.75, 4.  , 4.25, 4.5 , 4.75, 5.  ])"
            ]
          },
          "metadata": {},
          "execution_count": 23
        }
      ]
    },
    {
      "cell_type": "code",
      "source": [
        "np.eye(5)\n"
      ],
      "metadata": {
        "colab": {
          "base_uri": "https://localhost:8080/"
        },
        "id": "op9TYUdnGU0M",
        "outputId": "bfce3dd0-9c51-4bf9-85fc-684b63ae24b7"
      },
      "execution_count": 24,
      "outputs": [
        {
          "output_type": "execute_result",
          "data": {
            "text/plain": [
              "array([[1., 0., 0., 0., 0.],\n",
              "       [0., 1., 0., 0., 0.],\n",
              "       [0., 0., 1., 0., 0.],\n",
              "       [0., 0., 0., 1., 0.],\n",
              "       [0., 0., 0., 0., 1.]])"
            ]
          },
          "metadata": {},
          "execution_count": 24
        }
      ]
    },
    {
      "cell_type": "code",
      "source": [
        "np.eye(17)\n",
        "\n"
      ],
      "metadata": {
        "colab": {
          "base_uri": "https://localhost:8080/"
        },
        "id": "bkF__Jp0Gg2H",
        "outputId": "5fb106ce-9819-4b05-8043-73b1cfc8c384"
      },
      "execution_count": 25,
      "outputs": [
        {
          "output_type": "execute_result",
          "data": {
            "text/plain": [
              "array([[1., 0., 0., 0., 0., 0., 0., 0., 0., 0., 0., 0., 0., 0., 0., 0.,\n",
              "        0.],\n",
              "       [0., 1., 0., 0., 0., 0., 0., 0., 0., 0., 0., 0., 0., 0., 0., 0.,\n",
              "        0.],\n",
              "       [0., 0., 1., 0., 0., 0., 0., 0., 0., 0., 0., 0., 0., 0., 0., 0.,\n",
              "        0.],\n",
              "       [0., 0., 0., 1., 0., 0., 0., 0., 0., 0., 0., 0., 0., 0., 0., 0.,\n",
              "        0.],\n",
              "       [0., 0., 0., 0., 1., 0., 0., 0., 0., 0., 0., 0., 0., 0., 0., 0.,\n",
              "        0.],\n",
              "       [0., 0., 0., 0., 0., 1., 0., 0., 0., 0., 0., 0., 0., 0., 0., 0.,\n",
              "        0.],\n",
              "       [0., 0., 0., 0., 0., 0., 1., 0., 0., 0., 0., 0., 0., 0., 0., 0.,\n",
              "        0.],\n",
              "       [0., 0., 0., 0., 0., 0., 0., 1., 0., 0., 0., 0., 0., 0., 0., 0.,\n",
              "        0.],\n",
              "       [0., 0., 0., 0., 0., 0., 0., 0., 1., 0., 0., 0., 0., 0., 0., 0.,\n",
              "        0.],\n",
              "       [0., 0., 0., 0., 0., 0., 0., 0., 0., 1., 0., 0., 0., 0., 0., 0.,\n",
              "        0.],\n",
              "       [0., 0., 0., 0., 0., 0., 0., 0., 0., 0., 1., 0., 0., 0., 0., 0.,\n",
              "        0.],\n",
              "       [0., 0., 0., 0., 0., 0., 0., 0., 0., 0., 0., 1., 0., 0., 0., 0.,\n",
              "        0.],\n",
              "       [0., 0., 0., 0., 0., 0., 0., 0., 0., 0., 0., 0., 1., 0., 0., 0.,\n",
              "        0.],\n",
              "       [0., 0., 0., 0., 0., 0., 0., 0., 0., 0., 0., 0., 0., 1., 0., 0.,\n",
              "        0.],\n",
              "       [0., 0., 0., 0., 0., 0., 0., 0., 0., 0., 0., 0., 0., 0., 1., 0.,\n",
              "        0.],\n",
              "       [0., 0., 0., 0., 0., 0., 0., 0., 0., 0., 0., 0., 0., 0., 0., 1.,\n",
              "        0.],\n",
              "       [0., 0., 0., 0., 0., 0., 0., 0., 0., 0., 0., 0., 0., 0., 0., 0.,\n",
              "        1.]])"
            ]
          },
          "metadata": {},
          "execution_count": 25
        }
      ]
    },
    {
      "cell_type": "code",
      "source": [
        "np.random.rand(5,15)"
      ],
      "metadata": {
        "colab": {
          "base_uri": "https://localhost:8080/"
        },
        "id": "YFX3tdw3GkBA",
        "outputId": "7712326c-5da9-4b33-efe4-61060f1288ce"
      },
      "execution_count": 30,
      "outputs": [
        {
          "output_type": "execute_result",
          "data": {
            "text/plain": [
              "array([[0.52466924, 0.41722122, 0.13526375, 0.07518195, 0.47782189,\n",
              "        0.22755409, 0.50427746, 0.03361943, 0.03227567, 0.04963565,\n",
              "        0.32349295, 0.29876914, 0.12459421, 0.24730714, 0.44485557],\n",
              "       [0.28761222, 0.77249989, 0.5426151 , 0.98129918, 0.60604538,\n",
              "        0.17341533, 0.4763732 , 0.12249922, 0.55549039, 0.95511049,\n",
              "        0.17588569, 0.09088178, 0.50431245, 0.67169095, 0.75805728],\n",
              "       [0.8220206 , 0.41652627, 0.22112604, 0.87719074, 0.07551661,\n",
              "        0.98315842, 0.9155432 , 0.1519615 , 0.80125119, 0.86205026,\n",
              "        0.8054052 , 0.18256018, 0.90343253, 0.04970712, 0.82365327],\n",
              "       [0.40539291, 0.62067095, 0.075031  , 0.82209864, 0.66986922,\n",
              "        0.36114726, 0.27651842, 0.9083221 , 0.42700835, 0.74112349,\n",
              "        0.43955175, 0.43898104, 0.47324916, 0.06852524, 0.96663553],\n",
              "       [0.12160186, 0.54319767, 0.35630905, 0.24332501, 0.65164628,\n",
              "        0.52312362, 0.13251749, 0.2272452 , 0.83767426, 0.23337499,\n",
              "        0.56985345, 0.64465258, 0.46810285, 0.37673775, 0.7096059 ]])"
            ]
          },
          "metadata": {},
          "execution_count": 30
        }
      ]
    },
    {
      "cell_type": "code",
      "source": [
        "np.random.randn(5,76)"
      ],
      "metadata": {
        "colab": {
          "base_uri": "https://localhost:8080/"
        },
        "id": "K9Z4mKtCG0B3",
        "outputId": "0d9e977a-1b44-4a78-8ea6-9a14b1d2036c"
      },
      "execution_count": 32,
      "outputs": [
        {
          "output_type": "execute_result",
          "data": {
            "text/plain": [
              "array([[-2.37650157e-01,  1.06962280e+00,  6.07594449e-01,\n",
              "         2.38414634e-01, -9.02450911e-01,  1.82360985e-01,\n",
              "        -1.03582384e+00, -2.14135824e+00, -1.44720900e+00,\n",
              "         3.16652065e-01,  1.58696526e+00, -1.50707619e+00,\n",
              "        -4.07032458e-02, -1.49037766e+00,  5.71523882e-01,\n",
              "         2.50412968e-01,  7.12514941e-01, -5.11986838e-01,\n",
              "         5.47246596e-01, -1.43947047e-01, -7.61322045e-01,\n",
              "        -1.34234976e+00,  1.92464695e+00, -9.60887866e-01,\n",
              "         4.87355032e-01,  1.34368591e+00, -2.13660583e+00,\n",
              "        -1.92077177e+00, -3.02299601e-01,  1.47152968e+00,\n",
              "        -1.19275611e+00, -6.68017110e-02,  1.00384959e+00,\n",
              "        -1.31732451e+00, -1.20151654e-01, -9.68225414e-01,\n",
              "        -8.83031262e-01,  1.27413499e+00, -3.38609697e-01,\n",
              "        -1.20149257e+00, -9.83649425e-01, -2.50301657e+00,\n",
              "        -2.69880879e-01,  1.72936931e+00,  3.88520536e-01,\n",
              "        -1.15962133e-02,  2.75343977e-01, -5.10519229e-01,\n",
              "         3.43622186e-02,  6.52879114e-01, -8.22048068e-01,\n",
              "        -3.13029430e-01, -3.11578454e-01,  6.70345845e-01,\n",
              "        -9.16372018e-01, -1.10491295e+00,  1.81023164e-01,\n",
              "        -4.30409726e-01, -5.51609991e-01, -3.17042952e-01,\n",
              "         1.97988044e+00, -6.48287743e-01, -1.42428831e+00,\n",
              "         1.57670321e-01, -1.64186441e-01, -2.26839101e+00,\n",
              "        -2.04385697e-01,  9.86127581e-01, -2.17311789e+00,\n",
              "        -1.99264413e+00, -6.86195064e-01, -1.34514605e+00,\n",
              "         2.81910119e-01, -1.91433411e-01, -2.02136353e-01,\n",
              "        -2.31046295e+00],\n",
              "       [-3.35461797e-01, -4.52512695e-01, -6.52043991e-02,\n",
              "         7.89847163e-01, -1.12502389e+00, -6.69738256e-01,\n",
              "        -2.31929414e+00,  4.42722146e-01,  3.59239187e-01,\n",
              "        -7.85239290e-01, -5.56785853e-01,  1.06896725e+00,\n",
              "        -9.28884576e-01, -1.59922311e+00, -9.07026356e-01,\n",
              "         6.16311561e-01,  6.65622876e-01,  1.21044203e+00,\n",
              "        -6.78378140e-01,  1.39881656e+00, -2.02985150e+00,\n",
              "        -5.06852501e-01, -2.56354084e+00, -1.78600661e+00,\n",
              "        -3.89790170e-01, -2.26515276e+00, -1.47259278e+00,\n",
              "         2.29137142e+00,  1.06191967e+00,  1.79258260e-01,\n",
              "         6.18925485e-01, -1.82160813e+00, -9.73204841e-02,\n",
              "        -4.15220659e-01,  1.16000421e-01,  3.11226644e-01,\n",
              "        -2.38384595e-01,  5.35975797e-01, -6.94585207e-01,\n",
              "        -1.33685280e+00, -5.25073536e-01, -1.26852052e+00,\n",
              "         9.67949085e-01, -8.67976604e-01,  1.35723557e+00,\n",
              "         8.21433300e-01,  9.69357333e-01,  5.24353343e-01,\n",
              "        -3.22083113e-01,  6.85275757e-01, -6.27421490e-01,\n",
              "         9.71849998e-01, -4.70160614e-01,  1.69012777e-02,\n",
              "         8.03164935e-01, -1.30164101e+00, -8.83959407e-01,\n",
              "        -1.66457619e-01,  6.47795370e-01,  1.31756308e+00,\n",
              "        -9.50071797e-01,  1.46763371e+00,  6.14344098e-01,\n",
              "         6.53589664e-01, -9.89530378e-01, -1.19711063e+00,\n",
              "        -9.84630790e-01, -8.53108220e-01, -5.46280975e-01,\n",
              "         9.78285996e-01, -2.01885198e+00,  6.74106991e-01,\n",
              "        -9.55222420e-01, -1.09839086e+00,  2.28709576e-01,\n",
              "        -3.26493907e-01],\n",
              "       [-1.54332030e+00,  1.73006532e+00,  5.91406843e-01,\n",
              "         1.71784795e-01,  1.28738881e+00, -1.12911025e+00,\n",
              "         1.68076973e+00,  7.52942835e-01,  2.68059222e+00,\n",
              "        -2.80955626e+00,  1.01626397e+00,  1.25045401e-01,\n",
              "         1.07804567e+00, -1.45629988e+00,  6.69594658e-01,\n",
              "         5.27059696e-01, -4.72057290e-01,  3.32656726e-03,\n",
              "         1.01386778e+00, -1.52058538e-01, -1.21226145e+00,\n",
              "        -7.58148456e-01,  1.65679998e+00,  5.45589100e-01,\n",
              "         3.33603666e-01, -1.51351386e+00, -1.43583269e-01,\n",
              "        -2.25299270e-01, -4.43175368e-01, -1.51011939e+00,\n",
              "         4.43185950e-02,  3.94515991e-01,  1.25871151e+00,\n",
              "        -5.49424279e-01,  1.19733170e+00, -1.80659335e-01,\n",
              "        -6.05185901e-01, -4.12172725e-01, -1.56704640e+00,\n",
              "        -2.07705555e+00,  2.64632788e-02, -1.45328279e+00,\n",
              "         1.57258564e-01, -2.75559710e-01,  3.73412838e-01,\n",
              "         1.59279202e+00,  1.62931012e+00, -7.44068878e-01,\n",
              "         1.09788345e+00, -1.02736735e+00,  5.94118885e-01,\n",
              "        -1.64242832e+00,  1.32612353e-01, -1.24415630e+00,\n",
              "         1.07541915e+00,  2.86783624e-01,  1.20856001e+00,\n",
              "         1.18417601e-01, -5.44069855e-01,  9.98923009e-01,\n",
              "         1.67317681e+00,  1.94824381e-01,  9.54009766e-01,\n",
              "        -4.80787712e-01,  8.47992436e-01, -1.64444452e+00,\n",
              "        -5.46515010e-01,  1.52765080e+00,  5.79513333e-02,\n",
              "        -1.31419547e+00, -1.92642508e+00,  1.09927666e+00,\n",
              "         6.70684598e-01, -2.10301137e-02,  1.42578177e+00,\n",
              "        -1.40777489e-02],\n",
              "       [ 1.26100665e+00, -7.45427047e-01,  4.84802137e-01,\n",
              "        -8.48508119e-01,  8.17527298e-01, -3.80315493e-01,\n",
              "        -1.03725197e+00, -4.87289212e-01, -1.06411458e+00,\n",
              "        -1.54655033e-01, -1.87118243e+00,  7.99457493e-01,\n",
              "        -6.37873475e-01,  9.86575583e-01,  6.86282933e-01,\n",
              "         3.40316143e-01, -3.38865892e-01,  4.92460578e-01,\n",
              "        -9.80439158e-02,  1.01823313e+00,  7.78028419e-01,\n",
              "        -5.15288368e-01, -7.11537967e-02,  1.41662471e+00,\n",
              "        -6.17677513e-01, -9.24888093e-01,  2.77469524e+00,\n",
              "        -5.83928956e-01, -2.33869266e-01, -1.76340681e-01,\n",
              "         1.32826914e+00, -1.11845894e-02,  3.16940437e-01,\n",
              "        -5.04949208e-01, -1.33633539e+00,  5.56599513e-01,\n",
              "        -5.03400809e-01,  2.72402127e-02, -1.03228975e+00,\n",
              "         1.06317455e-01,  3.83295151e-01, -1.24353780e+00,\n",
              "         8.49743145e-01, -1.08950347e-01,  5.15237930e-01,\n",
              "         1.18564394e+00,  4.07229641e-01,  1.22376761e+00,\n",
              "         6.25143609e-01, -5.62234641e-01, -8.52600810e-01,\n",
              "         1.11572203e+00,  1.40000667e+00,  4.48418938e-01,\n",
              "         4.14926933e-02,  7.71571353e-01, -1.31869205e+00,\n",
              "        -1.45543577e+00, -7.83939628e-01, -1.08598006e+00,\n",
              "         8.24030537e-01,  2.33679836e+00,  3.93821434e-01,\n",
              "        -2.33395676e+00, -1.40201400e+00,  1.20148120e-01,\n",
              "         4.68614135e-01,  8.23642515e-01, -1.09921264e+00,\n",
              "        -3.00176118e-01, -2.45625917e-01,  8.43176233e-01,\n",
              "         3.98157608e-01, -6.01394449e-01, -1.48441723e+00,\n",
              "         1.18867019e-01],\n",
              "       [-1.44273441e+00, -1.32091066e+00,  8.45028966e-02,\n",
              "        -1.91191809e+00,  9.57172569e-01,  1.00336904e+00,\n",
              "         1.95765823e+00,  6.62865289e-01,  5.61556642e-01,\n",
              "         7.50028139e-01,  1.41751084e+00,  1.57853822e+00,\n",
              "        -1.81865802e+00, -1.30083353e+00, -1.91012643e-01,\n",
              "        -2.97679923e-01, -8.68471828e-01, -3.97041836e-01,\n",
              "         4.08429356e-01,  1.66450361e+00,  1.79430048e-01,\n",
              "         4.08616829e-01, -6.88167211e-01, -9.28067360e-01,\n",
              "         1.37674681e+00, -9.41567668e-02,  1.87843233e+00,\n",
              "         7.72553901e-01, -6.19455666e-01,  1.85451238e+00,\n",
              "        -4.29186933e-02,  1.10374359e-01, -9.40197192e-01,\n",
              "         5.22943963e-01, -8.33012631e-01, -6.78813125e-01,\n",
              "        -2.13091480e+00, -4.69273619e-01,  6.95854504e-01,\n",
              "        -1.88295242e+00,  3.98748003e-01,  9.41906492e-01,\n",
              "         1.21668794e+00, -2.66849809e-01, -9.20689490e-01,\n",
              "        -1.62233301e+00, -1.62774483e-02,  4.34929610e-01,\n",
              "        -2.87578734e-01,  1.28496212e+00, -1.27187490e+00,\n",
              "        -1.37931877e+00, -7.24738019e-01, -1.28433316e+00,\n",
              "        -1.72623911e+00,  4.81749365e-01, -1.35523601e+00,\n",
              "         1.42824075e+00, -4.07243423e-02,  1.18366055e+00,\n",
              "        -9.65483983e-04,  2.38144004e-01, -1.17394221e+00,\n",
              "         1.31574939e-01,  1.28406514e+00, -6.43017213e-01,\n",
              "        -8.39475247e-01,  5.92257113e-01,  1.30003245e+00,\n",
              "        -4.81878135e-01,  1.16952095e+00, -4.94047828e-01,\n",
              "         1.33335545e+00,  2.80343095e+00, -4.21838010e-01,\n",
              "        -5.16466552e-01]])"
            ]
          },
          "metadata": {},
          "execution_count": 32
        }
      ]
    },
    {
      "cell_type": "code",
      "source": [
        "np.random.randn(3,5)\n"
      ],
      "metadata": {
        "colab": {
          "base_uri": "https://localhost:8080/"
        },
        "id": "6xGzU41bHQuq",
        "outputId": "12712960-94f7-43d0-d730-09a203d0d20a"
      },
      "execution_count": 33,
      "outputs": [
        {
          "output_type": "execute_result",
          "data": {
            "text/plain": [
              "array([[-1.31214044,  0.1463683 ,  1.41283838,  0.60062879,  1.24187167],\n",
              "       [-0.43341391, -0.92740016, -0.21967831,  0.4947888 , -0.26688999],\n",
              "       [-0.2425431 , -0.62656434,  0.78428943,  0.9756241 ,  0.2194552 ]])"
            ]
          },
          "metadata": {},
          "execution_count": 33
        }
      ]
    },
    {
      "cell_type": "code",
      "source": [
        "np.random.randint(4,17878,(3,6))"
      ],
      "metadata": {
        "colab": {
          "base_uri": "https://localhost:8080/"
        },
        "id": "W7wZoh-HHchz",
        "outputId": "8b7a3a20-3eb0-4103-d3aa-88e728882daf"
      },
      "execution_count": 37,
      "outputs": [
        {
          "output_type": "execute_result",
          "data": {
            "text/plain": [
              "array([[10178, 13804, 15231, 13028,  7866,  3392],\n",
              "       [ 3189,  2719,  2326, 11695, 15849, 15195],\n",
              "       [ 3269,    71,  4004, 15556,  3134, 10780]])"
            ]
          },
          "metadata": {},
          "execution_count": 37
        }
      ]
    },
    {
      "cell_type": "code",
      "source": [
        "np.random.seed(42)\n",
        "np.random.rand(4)"
      ],
      "metadata": {
        "colab": {
          "base_uri": "https://localhost:8080/"
        },
        "id": "bb_pWMJvHmKZ",
        "outputId": "f383fae7-2be2-4dcb-e5bd-4d13f409d831"
      },
      "execution_count": 40,
      "outputs": [
        {
          "output_type": "execute_result",
          "data": {
            "text/plain": [
              "array([0.37454012, 0.95071431, 0.73199394, 0.59865848])"
            ]
          },
          "metadata": {},
          "execution_count": 40
        }
      ]
    },
    {
      "cell_type": "code",
      "source": [
        "arr = np.arange(0,25)"
      ],
      "metadata": {
        "id": "PDnKfTNwH7yh"
      },
      "execution_count": 41,
      "outputs": []
    },
    {
      "cell_type": "code",
      "source": [
        "arr"
      ],
      "metadata": {
        "colab": {
          "base_uri": "https://localhost:8080/"
        },
        "id": "aAOXmVE3Ic0U",
        "outputId": "9d5975f2-1df6-43bc-9c02-22ef0e30871a"
      },
      "execution_count": 42,
      "outputs": [
        {
          "output_type": "execute_result",
          "data": {
            "text/plain": [
              "array([ 0,  1,  2,  3,  4,  5,  6,  7,  8,  9, 10, 11, 12, 13, 14, 15, 16,\n",
              "       17, 18, 19, 20, 21, 22, 23, 24])"
            ]
          },
          "metadata": {},
          "execution_count": 42
        }
      ]
    },
    {
      "cell_type": "code",
      "source": [
        "arr.reshape((5,5))"
      ],
      "metadata": {
        "colab": {
          "base_uri": "https://localhost:8080/"
        },
        "id": "HYUjBMZJIdhG",
        "outputId": "de93a044-68f2-42ba-f64a-bd84caa51197"
      },
      "execution_count": 45,
      "outputs": [
        {
          "output_type": "execute_result",
          "data": {
            "text/plain": [
              "array([[ 0,  1,  2,  3,  4],\n",
              "       [ 5,  6,  7,  8,  9],\n",
              "       [10, 11, 12, 13, 14],\n",
              "       [15, 16, 17, 18, 19],\n",
              "       [20, 21, 22, 23, 24]])"
            ]
          },
          "metadata": {},
          "execution_count": 45
        }
      ]
    },
    {
      "cell_type": "code",
      "source": [
        "np.random.randint(0,101,12)"
      ],
      "metadata": {
        "colab": {
          "base_uri": "https://localhost:8080/"
        },
        "id": "SqpVlrrMIh3k",
        "outputId": "d9b294c9-188a-40b1-f3a7-6904a01a45aa"
      },
      "execution_count": 46,
      "outputs": [
        {
          "output_type": "execute_result",
          "data": {
            "text/plain": [
              "array([82, 86, 74, 74, 87, 99, 23,  2, 21, 52,  1, 87])"
            ]
          },
          "metadata": {},
          "execution_count": 46
        }
      ]
    },
    {
      "cell_type": "code",
      "source": [
        "np.random.randint(0,101,12).max()\n"
      ],
      "metadata": {
        "colab": {
          "base_uri": "https://localhost:8080/"
        },
        "id": "HkzusCLoIwpK",
        "outputId": "69fa9367-bf68-4258-f2c0-8f7348888cad"
      },
      "execution_count": 47,
      "outputs": [
        {
          "output_type": "execute_result",
          "data": {
            "text/plain": [
              "88"
            ]
          },
          "metadata": {},
          "execution_count": 47
        }
      ]
    },
    {
      "cell_type": "code",
      "source": [
        "np.random.randint(0,101,12).min()\n"
      ],
      "metadata": {
        "colab": {
          "base_uri": "https://localhost:8080/"
        },
        "id": "p9M4qbqcI2TK",
        "outputId": "658e2fc4-7771-492e-fa97-3307932890d5"
      },
      "execution_count": 48,
      "outputs": [
        {
          "output_type": "execute_result",
          "data": {
            "text/plain": [
              "14"
            ]
          },
          "metadata": {},
          "execution_count": 48
        }
      ]
    },
    {
      "cell_type": "code",
      "source": [
        "np.random.randint(0,101,12).argmin()\n"
      ],
      "metadata": {
        "colab": {
          "base_uri": "https://localhost:8080/"
        },
        "id": "cNQQ1zUAI5LB",
        "outputId": "2aaf97da-0473-487f-fda7-508c8b6b772b"
      },
      "execution_count": 49,
      "outputs": [
        {
          "output_type": "execute_result",
          "data": {
            "text/plain": [
              "2"
            ]
          },
          "metadata": {},
          "execution_count": 49
        }
      ]
    },
    {
      "cell_type": "code",
      "source": [
        "np.random.randint(0,101,12).argmax()\n"
      ],
      "metadata": {
        "colab": {
          "base_uri": "https://localhost:8080/"
        },
        "id": "xBjKPQXmI8Ko",
        "outputId": "103c89ff-002e-49c1-aaa2-a005ddd439b8"
      },
      "execution_count": 50,
      "outputs": [
        {
          "output_type": "execute_result",
          "data": {
            "text/plain": [
              "7"
            ]
          },
          "metadata": {},
          "execution_count": 50
        }
      ]
    },
    {
      "cell_type": "code",
      "source": [
        "arr"
      ],
      "metadata": {
        "colab": {
          "base_uri": "https://localhost:8080/"
        },
        "id": "iEPLlCJKI_lf",
        "outputId": "44bec2e2-af3a-42a0-d20e-9358bd817383"
      },
      "execution_count": 52,
      "outputs": [
        {
          "output_type": "execute_result",
          "data": {
            "text/plain": [
              "array([ 0,  1,  2,  3,  4,  5,  6,  7,  8,  9, 10, 11, 12, 13, 14, 15, 16,\n",
              "       17, 18, 19, 20, 21, 22, 23, 24])"
            ]
          },
          "metadata": {},
          "execution_count": 52
        }
      ]
    },
    {
      "cell_type": "code",
      "source": [
        "arr.shape"
      ],
      "metadata": {
        "colab": {
          "base_uri": "https://localhost:8080/"
        },
        "id": "fQF6p0HgJFU_",
        "outputId": "acd33d58-f243-4214-fa76-5b49dec676e1"
      },
      "execution_count": 55,
      "outputs": [
        {
          "output_type": "execute_result",
          "data": {
            "text/plain": [
              "(25,)"
            ]
          },
          "metadata": {},
          "execution_count": 55
        }
      ]
    },
    {
      "cell_type": "code",
      "source": [
        "arr.reshape(25,1)"
      ],
      "metadata": {
        "colab": {
          "base_uri": "https://localhost:8080/"
        },
        "id": "BwwBmWqDJLAV",
        "outputId": "f6a4ba51-5ce3-4871-f847-cf3698a6f127"
      },
      "execution_count": 56,
      "outputs": [
        {
          "output_type": "execute_result",
          "data": {
            "text/plain": [
              "array([[ 0],\n",
              "       [ 1],\n",
              "       [ 2],\n",
              "       [ 3],\n",
              "       [ 4],\n",
              "       [ 5],\n",
              "       [ 6],\n",
              "       [ 7],\n",
              "       [ 8],\n",
              "       [ 9],\n",
              "       [10],\n",
              "       [11],\n",
              "       [12],\n",
              "       [13],\n",
              "       [14],\n",
              "       [15],\n",
              "       [16],\n",
              "       [17],\n",
              "       [18],\n",
              "       [19],\n",
              "       [20],\n",
              "       [21],\n",
              "       [22],\n",
              "       [23],\n",
              "       [24]])"
            ]
          },
          "metadata": {},
          "execution_count": 56
        }
      ]
    },
    {
      "cell_type": "code",
      "source": [
        "arr.reshape(1,25)"
      ],
      "metadata": {
        "colab": {
          "base_uri": "https://localhost:8080/"
        },
        "id": "q7duNTioJVRv",
        "outputId": "758530d7-01d0-4e0a-e618-53d1907e0923"
      },
      "execution_count": 57,
      "outputs": [
        {
          "output_type": "execute_result",
          "data": {
            "text/plain": [
              "array([[ 0,  1,  2,  3,  4,  5,  6,  7,  8,  9, 10, 11, 12, 13, 14, 15,\n",
              "        16, 17, 18, 19, 20, 21, 22, 23, 24]])"
            ]
          },
          "metadata": {},
          "execution_count": 57
        }
      ]
    },
    {
      "cell_type": "code",
      "source": [
        "arr = np.arange(0,11,1)"
      ],
      "metadata": {
        "id": "Cp8Fbfl0JXXf"
      },
      "execution_count": 58,
      "outputs": []
    },
    {
      "cell_type": "code",
      "source": [
        "arr"
      ],
      "metadata": {
        "colab": {
          "base_uri": "https://localhost:8080/"
        },
        "id": "QLQ4G0GoJoNz",
        "outputId": "387416cf-2ed5-48f4-db6e-cf245a0f06d4"
      },
      "execution_count": 59,
      "outputs": [
        {
          "output_type": "execute_result",
          "data": {
            "text/plain": [
              "array([ 0,  1,  2,  3,  4,  5,  6,  7,  8,  9, 10])"
            ]
          },
          "metadata": {},
          "execution_count": 59
        }
      ]
    },
    {
      "cell_type": "code",
      "source": [
        "arr[8]"
      ],
      "metadata": {
        "colab": {
          "base_uri": "https://localhost:8080/"
        },
        "id": "olEjDTToJo5N",
        "outputId": "ad8ef526-f51a-47f3-cad6-1b47ae47d163"
      },
      "execution_count": 60,
      "outputs": [
        {
          "output_type": "execute_result",
          "data": {
            "text/plain": [
              "8"
            ]
          },
          "metadata": {},
          "execution_count": 60
        }
      ]
    },
    {
      "cell_type": "code",
      "source": [
        "arr[4]"
      ],
      "metadata": {
        "colab": {
          "base_uri": "https://localhost:8080/"
        },
        "id": "EhwU76rkJrGa",
        "outputId": "278f4dc1-4f43-4b0a-fcd4-9f9066eeec35"
      },
      "execution_count": 61,
      "outputs": [
        {
          "output_type": "execute_result",
          "data": {
            "text/plain": [
              "4"
            ]
          },
          "metadata": {},
          "execution_count": 61
        }
      ]
    },
    {
      "cell_type": "code",
      "source": [
        "arr[1:5]"
      ],
      "metadata": {
        "colab": {
          "base_uri": "https://localhost:8080/"
        },
        "id": "9sTAV8J8Jsgc",
        "outputId": "637bbbfa-3d23-40ee-a7bb-241232db2b6d"
      },
      "execution_count": 62,
      "outputs": [
        {
          "output_type": "execute_result",
          "data": {
            "text/plain": [
              "array([1, 2, 3, 4])"
            ]
          },
          "metadata": {},
          "execution_count": 62
        }
      ]
    },
    {
      "cell_type": "code",
      "source": [
        "arr[:5]"
      ],
      "metadata": {
        "colab": {
          "base_uri": "https://localhost:8080/"
        },
        "id": "Qczqf-HkJuv4",
        "outputId": "18bc131f-09b5-4eca-df9d-b30ec6a4a875"
      },
      "execution_count": 63,
      "outputs": [
        {
          "output_type": "execute_result",
          "data": {
            "text/plain": [
              "array([0, 1, 2, 3, 4])"
            ]
          },
          "metadata": {},
          "execution_count": 63
        }
      ]
    },
    {
      "cell_type": "code",
      "source": [
        "arr[5:7]"
      ],
      "metadata": {
        "colab": {
          "base_uri": "https://localhost:8080/"
        },
        "id": "eccqRKnqJyXp",
        "outputId": "4b42373c-3815-4110-dcc6-fd929149e47b"
      },
      "execution_count": 64,
      "outputs": [
        {
          "output_type": "execute_result",
          "data": {
            "text/plain": [
              "array([5, 6])"
            ]
          },
          "metadata": {},
          "execution_count": 64
        }
      ]
    },
    {
      "cell_type": "code",
      "source": [
        "arr[5:]"
      ],
      "metadata": {
        "colab": {
          "base_uri": "https://localhost:8080/"
        },
        "id": "8Iiw_7LaJ0Qa",
        "outputId": "0890ab61-6e05-48c1-eabc-5e73ddb9c8ad"
      },
      "execution_count": 65,
      "outputs": [
        {
          "output_type": "execute_result",
          "data": {
            "text/plain": [
              "array([ 5,  6,  7,  8,  9, 10])"
            ]
          },
          "metadata": {},
          "execution_count": 65
        }
      ]
    },
    {
      "cell_type": "code",
      "source": [
        "arr[0:5] = 100"
      ],
      "metadata": {
        "id": "mNPXvDbDJ22P"
      },
      "execution_count": 66,
      "outputs": []
    },
    {
      "cell_type": "code",
      "source": [
        "arr\n"
      ],
      "metadata": {
        "colab": {
          "base_uri": "https://localhost:8080/"
        },
        "id": "bYETFex0KCc0",
        "outputId": "eb9d202d-ee01-4739-ec45-2cb806021dd0"
      },
      "execution_count": 67,
      "outputs": [
        {
          "output_type": "execute_result",
          "data": {
            "text/plain": [
              "array([100, 100, 100, 100, 100,   5,   6,   7,   8,   9,  10])"
            ]
          },
          "metadata": {},
          "execution_count": 67
        }
      ]
    },
    {
      "cell_type": "code",
      "source": [
        "arr[5:8] = 56"
      ],
      "metadata": {
        "id": "YjpFgx99KDpT"
      },
      "execution_count": 68,
      "outputs": []
    },
    {
      "cell_type": "code",
      "source": [
        "arr"
      ],
      "metadata": {
        "colab": {
          "base_uri": "https://localhost:8080/"
        },
        "id": "zPHBPaO4KHaV",
        "outputId": "3f52fd5d-7241-4d83-db2b-fa4a8843b817"
      },
      "execution_count": 69,
      "outputs": [
        {
          "output_type": "execute_result",
          "data": {
            "text/plain": [
              "array([100, 100, 100, 100, 100,  56,  56,  56,   8,   9,  10])"
            ]
          },
          "metadata": {},
          "execution_count": 69
        }
      ]
    },
    {
      "cell_type": "code",
      "source": [
        "arr = np.arange(0,11,1)"
      ],
      "metadata": {
        "id": "S7U_a6EKKIFV"
      },
      "execution_count": 70,
      "outputs": []
    },
    {
      "cell_type": "code",
      "source": [
        "arr"
      ],
      "metadata": {
        "colab": {
          "base_uri": "https://localhost:8080/"
        },
        "id": "6SLW9ZppKMxd",
        "outputId": "e5485aa6-df50-46c6-e207-5acc3fd59730"
      },
      "execution_count": 71,
      "outputs": [
        {
          "output_type": "execute_result",
          "data": {
            "text/plain": [
              "array([ 0,  1,  2,  3,  4,  5,  6,  7,  8,  9, 10])"
            ]
          },
          "metadata": {},
          "execution_count": 71
        }
      ]
    },
    {
      "cell_type": "code",
      "source": [
        "arr[:] = 78"
      ],
      "metadata": {
        "id": "1HzGx4WiKPa8"
      },
      "execution_count": 72,
      "outputs": []
    },
    {
      "cell_type": "code",
      "source": [
        "arr"
      ],
      "metadata": {
        "colab": {
          "base_uri": "https://localhost:8080/"
        },
        "id": "U3H_aW94KTJE",
        "outputId": "888079f2-56bd-4810-9650-f93200d558c8"
      },
      "execution_count": 73,
      "outputs": [
        {
          "output_type": "execute_result",
          "data": {
            "text/plain": [
              "array([78, 78, 78, 78, 78, 78, 78, 78, 78, 78, 78])"
            ]
          },
          "metadata": {},
          "execution_count": 73
        }
      ]
    },
    {
      "cell_type": "code",
      "source": [
        "arr = np.arange(0,56,8)"
      ],
      "metadata": {
        "id": "OssmtoMPKT4o"
      },
      "execution_count": 74,
      "outputs": []
    },
    {
      "cell_type": "code",
      "source": [
        "arr"
      ],
      "metadata": {
        "colab": {
          "base_uri": "https://localhost:8080/"
        },
        "id": "pNRmZTYGKYz2",
        "outputId": "9800648f-2d6c-4d3d-bf58-b86ed34b5e38"
      },
      "execution_count": 75,
      "outputs": [
        {
          "output_type": "execute_result",
          "data": {
            "text/plain": [
              "array([ 0,  8, 16, 24, 32, 40, 48])"
            ]
          },
          "metadata": {},
          "execution_count": 75
        }
      ]
    },
    {
      "cell_type": "code",
      "source": [
        "arr_2d = np.array([[5,10,15],[25,30,35],[40,45,55]])"
      ],
      "metadata": {
        "id": "JxV5MAcqKZw9"
      },
      "execution_count": 77,
      "outputs": []
    },
    {
      "cell_type": "code",
      "source": [
        "arr_2d\n"
      ],
      "metadata": {
        "colab": {
          "base_uri": "https://localhost:8080/"
        },
        "id": "A6zleddQKutF",
        "outputId": "3db2720b-4aab-4c17-a0f5-0a09d2d65587"
      },
      "execution_count": 78,
      "outputs": [
        {
          "output_type": "execute_result",
          "data": {
            "text/plain": [
              "array([[ 5, 10, 15],\n",
              "       [25, 30, 35],\n",
              "       [40, 45, 55]])"
            ]
          },
          "metadata": {},
          "execution_count": 78
        }
      ]
    },
    {
      "cell_type": "code",
      "source": [
        "arr_2d[0]"
      ],
      "metadata": {
        "colab": {
          "base_uri": "https://localhost:8080/"
        },
        "id": "SFEyEfdgK3YR",
        "outputId": "844e52c9-5208-47ee-9810-7759419e6294"
      },
      "execution_count": 79,
      "outputs": [
        {
          "output_type": "execute_result",
          "data": {
            "text/plain": [
              "array([ 5, 10, 15])"
            ]
          },
          "metadata": {},
          "execution_count": 79
        }
      ]
    },
    {
      "cell_type": "code",
      "source": [
        "arr_2d[2]"
      ],
      "metadata": {
        "colab": {
          "base_uri": "https://localhost:8080/"
        },
        "id": "jIGkOLVBK6ir",
        "outputId": "1e644153-b6c0-4225-9460-3e32be34f6fc"
      },
      "execution_count": 80,
      "outputs": [
        {
          "output_type": "execute_result",
          "data": {
            "text/plain": [
              "array([40, 45, 55])"
            ]
          },
          "metadata": {},
          "execution_count": 80
        }
      ]
    },
    {
      "cell_type": "code",
      "source": [
        "arr_2d[1,1]\n"
      ],
      "metadata": {
        "colab": {
          "base_uri": "https://localhost:8080/"
        },
        "id": "fY_C_0TtK8o7",
        "outputId": "ce41c7a6-6c84-4ec2-d1e2-f05c134aa8a9"
      },
      "execution_count": 82,
      "outputs": [
        {
          "output_type": "execute_result",
          "data": {
            "text/plain": [
              "30"
            ]
          },
          "metadata": {},
          "execution_count": 82
        }
      ]
    },
    {
      "cell_type": "code",
      "source": [
        "arr_2d[0,2]"
      ],
      "metadata": {
        "colab": {
          "base_uri": "https://localhost:8080/"
        },
        "id": "7_73RRSVLEjm",
        "outputId": "1480e51e-3fe7-4b4e-9b90-e20c17ccb68f"
      },
      "execution_count": 83,
      "outputs": [
        {
          "output_type": "execute_result",
          "data": {
            "text/plain": [
              "15"
            ]
          },
          "metadata": {},
          "execution_count": 83
        }
      ]
    },
    {
      "cell_type": "code",
      "source": [
        "arr_2d[0:2]"
      ],
      "metadata": {
        "colab": {
          "base_uri": "https://localhost:8080/"
        },
        "id": "SfOYhYhYLJcu",
        "outputId": "f9f16a01-a32d-4199-df0d-18b642298409"
      },
      "execution_count": 84,
      "outputs": [
        {
          "output_type": "execute_result",
          "data": {
            "text/plain": [
              "array([[ 5, 10, 15],\n",
              "       [25, 30, 35]])"
            ]
          },
          "metadata": {},
          "execution_count": 84
        }
      ]
    },
    {
      "cell_type": "code",
      "source": [
        "arr_2d[:2,1:]"
      ],
      "metadata": {
        "colab": {
          "base_uri": "https://localhost:8080/"
        },
        "id": "huTrJ9OtLOOi",
        "outputId": "c7d89bb8-6aad-4b2e-c793-3be575152ce4"
      },
      "execution_count": 85,
      "outputs": [
        {
          "output_type": "execute_result",
          "data": {
            "text/plain": [
              "array([[10, 15],\n",
              "       [30, 35]])"
            ]
          },
          "metadata": {},
          "execution_count": 85
        }
      ]
    },
    {
      "cell_type": "code",
      "source": [
        "arr = np.arange(1,11)"
      ],
      "metadata": {
        "id": "yv-ubMl5LSsZ"
      },
      "execution_count": 87,
      "outputs": []
    },
    {
      "cell_type": "code",
      "source": [
        "arr"
      ],
      "metadata": {
        "colab": {
          "base_uri": "https://localhost:8080/"
        },
        "id": "dnEUgcGMLhG2",
        "outputId": "ea95969a-e42d-478e-8b64-e7b2d4bbaa60"
      },
      "execution_count": 88,
      "outputs": [
        {
          "output_type": "execute_result",
          "data": {
            "text/plain": [
              "array([ 1,  2,  3,  4,  5,  6,  7,  8,  9, 10])"
            ]
          },
          "metadata": {},
          "execution_count": 88
        }
      ]
    },
    {
      "cell_type": "code",
      "source": [
        "arr > 4"
      ],
      "metadata": {
        "colab": {
          "base_uri": "https://localhost:8080/"
        },
        "id": "0dhpil2mLkJk",
        "outputId": "df9fcdf2-cf73-4057-9c92-a8ab9fb30676"
      },
      "execution_count": 89,
      "outputs": [
        {
          "output_type": "execute_result",
          "data": {
            "text/plain": [
              "array([False, False, False, False,  True,  True,  True,  True,  True,\n",
              "        True])"
            ]
          },
          "metadata": {},
          "execution_count": 89
        }
      ]
    },
    {
      "cell_type": "code",
      "source": [
        "bool_arr = arr > 4"
      ],
      "metadata": {
        "id": "LZmVAkmvLlGa"
      },
      "execution_count": 90,
      "outputs": []
    },
    {
      "cell_type": "code",
      "source": [
        "bool_arr"
      ],
      "metadata": {
        "colab": {
          "base_uri": "https://localhost:8080/"
        },
        "id": "9xoikK9cLpF4",
        "outputId": "a6a8e065-03b4-4b53-9cb9-b9003ef7ab8c"
      },
      "execution_count": 91,
      "outputs": [
        {
          "output_type": "execute_result",
          "data": {
            "text/plain": [
              "array([False, False, False, False,  True,  True,  True,  True,  True,\n",
              "        True])"
            ]
          },
          "metadata": {},
          "execution_count": 91
        }
      ]
    },
    {
      "cell_type": "code",
      "source": [
        "arr[bool_arr]"
      ],
      "metadata": {
        "colab": {
          "base_uri": "https://localhost:8080/"
        },
        "id": "IfcBMxSsLqeR",
        "outputId": "5691b047-0882-4e31-ac9d-d00b270e3358"
      },
      "execution_count": 92,
      "outputs": [
        {
          "output_type": "execute_result",
          "data": {
            "text/plain": [
              "array([ 5,  6,  7,  8,  9, 10])"
            ]
          },
          "metadata": {},
          "execution_count": 92
        }
      ]
    },
    {
      "cell_type": "code",
      "source": [
        "arr[arr>4]"
      ],
      "metadata": {
        "colab": {
          "base_uri": "https://localhost:8080/"
        },
        "id": "O4HV61QTLtat",
        "outputId": "bd4aa4ee-075b-4cae-bf2e-162c6ed5af7a"
      },
      "execution_count": 93,
      "outputs": [
        {
          "output_type": "execute_result",
          "data": {
            "text/plain": [
              "array([ 5,  6,  7,  8,  9, 10])"
            ]
          },
          "metadata": {},
          "execution_count": 93
        }
      ]
    },
    {
      "cell_type": "code",
      "source": [
        "arr = np.arange(0,10)\n"
      ],
      "metadata": {
        "id": "kEwfUcSyL0CQ"
      },
      "execution_count": 94,
      "outputs": []
    },
    {
      "cell_type": "code",
      "source": [
        "arr"
      ],
      "metadata": {
        "colab": {
          "base_uri": "https://localhost:8080/"
        },
        "id": "q5aPHPnsjNZ8",
        "outputId": "3a9f5715-a1d2-4d15-b45f-3a1b690ae4f6"
      },
      "execution_count": 95,
      "outputs": [
        {
          "output_type": "execute_result",
          "data": {
            "text/plain": [
              "array([0, 1, 2, 3, 4, 5, 6, 7, 8, 9])"
            ]
          },
          "metadata": {},
          "execution_count": 95
        }
      ]
    },
    {
      "cell_type": "code",
      "source": [
        "arr + 5"
      ],
      "metadata": {
        "colab": {
          "base_uri": "https://localhost:8080/"
        },
        "id": "yMxyhswKjN2X",
        "outputId": "e158ae24-df3b-4017-e10f-74548ef82223"
      },
      "execution_count": 96,
      "outputs": [
        {
          "output_type": "execute_result",
          "data": {
            "text/plain": [
              "array([ 5,  6,  7,  8,  9, 10, 11, 12, 13, 14])"
            ]
          },
          "metadata": {},
          "execution_count": 96
        }
      ]
    },
    {
      "cell_type": "code",
      "source": [
        "arr - 2"
      ],
      "metadata": {
        "colab": {
          "base_uri": "https://localhost:8080/"
        },
        "id": "O8MxuR8yjQHK",
        "outputId": "51af6058-9c63-45da-d5ad-cbf28b494ecd"
      },
      "execution_count": 97,
      "outputs": [
        {
          "output_type": "execute_result",
          "data": {
            "text/plain": [
              "array([-2, -1,  0,  1,  2,  3,  4,  5,  6,  7])"
            ]
          },
          "metadata": {},
          "execution_count": 97
        }
      ]
    },
    {
      "cell_type": "code",
      "source": [
        "arr * 1676768"
      ],
      "metadata": {
        "colab": {
          "base_uri": "https://localhost:8080/"
        },
        "id": "fFzfLSDYjThR",
        "outputId": "7c0e716e-78bc-4692-d250-53e7308251b0"
      },
      "execution_count": 98,
      "outputs": [
        {
          "output_type": "execute_result",
          "data": {
            "text/plain": [
              "array([       0,  1676768,  3353536,  5030304,  6707072,  8383840,\n",
              "       10060608, 11737376, 13414144, 15090912])"
            ]
          },
          "metadata": {},
          "execution_count": 98
        }
      ]
    },
    {
      "cell_type": "code",
      "source": [
        "arr + arr*16"
      ],
      "metadata": {
        "colab": {
          "base_uri": "https://localhost:8080/"
        },
        "id": "MZ_BItOljVQ8",
        "outputId": "a976269a-405b-4da5-b394-e261eaa9f5c0"
      },
      "execution_count": 99,
      "outputs": [
        {
          "output_type": "execute_result",
          "data": {
            "text/plain": [
              "array([  0,  17,  34,  51,  68,  85, 102, 119, 136, 153])"
            ]
          },
          "metadata": {},
          "execution_count": 99
        }
      ]
    },
    {
      "cell_type": "code",
      "source": [
        "arr - arr\n"
      ],
      "metadata": {
        "colab": {
          "base_uri": "https://localhost:8080/"
        },
        "id": "qf5xrawkjYqO",
        "outputId": "502a99bf-b7ac-4fd8-a4a4-58ca4261a56a"
      },
      "execution_count": 100,
      "outputs": [
        {
          "output_type": "execute_result",
          "data": {
            "text/plain": [
              "array([0, 0, 0, 0, 0, 0, 0, 0, 0, 0])"
            ]
          },
          "metadata": {},
          "execution_count": 100
        }
      ]
    },
    {
      "cell_type": "code",
      "source": [
        "arr\n"
      ],
      "metadata": {
        "colab": {
          "base_uri": "https://localhost:8080/"
        },
        "id": "CXBFWupVjbd2",
        "outputId": "27ba1c23-9c01-435d-f182-137173c5c1a0"
      },
      "execution_count": 101,
      "outputs": [
        {
          "output_type": "execute_result",
          "data": {
            "text/plain": [
              "array([0, 1, 2, 3, 4, 5, 6, 7, 8, 9])"
            ]
          },
          "metadata": {},
          "execution_count": 101
        }
      ]
    },
    {
      "cell_type": "code",
      "source": [
        "arr / arr\n"
      ],
      "metadata": {
        "colab": {
          "base_uri": "https://localhost:8080/"
        },
        "id": "tVigCmEijemM",
        "outputId": "9b2b8c3e-91a1-4c2a-9d0f-21c47ca87881"
      },
      "execution_count": 102,
      "outputs": [
        {
          "output_type": "stream",
          "name": "stderr",
          "text": [
            "/usr/local/lib/python3.7/dist-packages/ipykernel_launcher.py:1: RuntimeWarning: invalid value encountered in true_divide\n",
            "  \"\"\"Entry point for launching an IPython kernel.\n"
          ]
        },
        {
          "output_type": "execute_result",
          "data": {
            "text/plain": [
              "array([nan,  1.,  1.,  1.,  1.,  1.,  1.,  1.,  1.,  1.])"
            ]
          },
          "metadata": {},
          "execution_count": 102
        }
      ]
    },
    {
      "cell_type": "code",
      "source": [
        "arr / arr * 90"
      ],
      "metadata": {
        "colab": {
          "base_uri": "https://localhost:8080/"
        },
        "id": "ly-EDMrKjgcb",
        "outputId": "60e68f80-aa75-464e-9f01-9b8c52e4c544"
      },
      "execution_count": 103,
      "outputs": [
        {
          "output_type": "stream",
          "name": "stderr",
          "text": [
            "/usr/local/lib/python3.7/dist-packages/ipykernel_launcher.py:1: RuntimeWarning: invalid value encountered in true_divide\n",
            "  \"\"\"Entry point for launching an IPython kernel.\n"
          ]
        },
        {
          "output_type": "execute_result",
          "data": {
            "text/plain": [
              "array([nan, 90., 90., 90., 90., 90., 90., 90., 90., 90.])"
            ]
          },
          "metadata": {},
          "execution_count": 103
        }
      ]
    },
    {
      "cell_type": "code",
      "source": [
        "arr * 156 / arr"
      ],
      "metadata": {
        "colab": {
          "base_uri": "https://localhost:8080/"
        },
        "id": "6VPL6DbZjkbX",
        "outputId": "dafa78a5-bd0e-442a-9dbb-48d4f5ea23ce"
      },
      "execution_count": 104,
      "outputs": [
        {
          "output_type": "stream",
          "name": "stderr",
          "text": [
            "/usr/local/lib/python3.7/dist-packages/ipykernel_launcher.py:1: RuntimeWarning: invalid value encountered in true_divide\n",
            "  \"\"\"Entry point for launching an IPython kernel.\n"
          ]
        },
        {
          "output_type": "execute_result",
          "data": {
            "text/plain": [
              "array([ nan, 156., 156., 156., 156., 156., 156., 156., 156., 156.])"
            ]
          },
          "metadata": {},
          "execution_count": 104
        }
      ]
    },
    {
      "cell_type": "code",
      "source": [
        "1 / arr"
      ],
      "metadata": {
        "colab": {
          "base_uri": "https://localhost:8080/"
        },
        "id": "9TgPHfgijmuy",
        "outputId": "b3e36297-b4b2-4e35-8f05-124eb4c75c3d"
      },
      "execution_count": 105,
      "outputs": [
        {
          "output_type": "stream",
          "name": "stderr",
          "text": [
            "/usr/local/lib/python3.7/dist-packages/ipykernel_launcher.py:1: RuntimeWarning: divide by zero encountered in true_divide\n",
            "  \"\"\"Entry point for launching an IPython kernel.\n"
          ]
        },
        {
          "output_type": "execute_result",
          "data": {
            "text/plain": [
              "array([       inf, 1.        , 0.5       , 0.33333333, 0.25      ,\n",
              "       0.2       , 0.16666667, 0.14285714, 0.125     , 0.11111111])"
            ]
          },
          "metadata": {},
          "execution_count": 105
        }
      ]
    },
    {
      "cell_type": "code",
      "source": [
        "np.sqrt(arr)"
      ],
      "metadata": {
        "colab": {
          "base_uri": "https://localhost:8080/"
        },
        "id": "gbY8cTzHjuCP",
        "outputId": "e228dcfa-19ce-486d-f509-844096ccbd1b"
      },
      "execution_count": 106,
      "outputs": [
        {
          "output_type": "execute_result",
          "data": {
            "text/plain": [
              "array([0.        , 1.        , 1.41421356, 1.73205081, 2.        ,\n",
              "       2.23606798, 2.44948974, 2.64575131, 2.82842712, 3.        ])"
            ]
          },
          "metadata": {},
          "execution_count": 106
        }
      ]
    },
    {
      "cell_type": "code",
      "source": [
        "np.sin(arr)"
      ],
      "metadata": {
        "colab": {
          "base_uri": "https://localhost:8080/"
        },
        "id": "L97fc4Ryj-yM",
        "outputId": "44eb6edf-5c30-42d5-ea9f-b9bed4afc9d2"
      },
      "execution_count": 107,
      "outputs": [
        {
          "output_type": "execute_result",
          "data": {
            "text/plain": [
              "array([ 0.        ,  0.84147098,  0.90929743,  0.14112001, -0.7568025 ,\n",
              "       -0.95892427, -0.2794155 ,  0.6569866 ,  0.98935825,  0.41211849])"
            ]
          },
          "metadata": {},
          "execution_count": 107
        }
      ]
    },
    {
      "cell_type": "code",
      "source": [
        "np.cos(arr)"
      ],
      "metadata": {
        "colab": {
          "base_uri": "https://localhost:8080/"
        },
        "id": "JIhl_ckWkAX-",
        "outputId": "ad62f4ae-b146-4a2c-fcff-01bcfb7d7f8f"
      },
      "execution_count": 108,
      "outputs": [
        {
          "output_type": "execute_result",
          "data": {
            "text/plain": [
              "array([ 1.        ,  0.54030231, -0.41614684, -0.9899925 , -0.65364362,\n",
              "        0.28366219,  0.96017029,  0.75390225, -0.14550003, -0.91113026])"
            ]
          },
          "metadata": {},
          "execution_count": 108
        }
      ]
    },
    {
      "cell_type": "code",
      "source": [
        "np.tan(arr)"
      ],
      "metadata": {
        "colab": {
          "base_uri": "https://localhost:8080/"
        },
        "id": "pO9uzf25kB83",
        "outputId": "4c3af14e-0e49-4652-f6e9-3d222ed47077"
      },
      "execution_count": 109,
      "outputs": [
        {
          "output_type": "execute_result",
          "data": {
            "text/plain": [
              "array([ 0.        ,  1.55740772, -2.18503986, -0.14254654,  1.15782128,\n",
              "       -3.38051501, -0.29100619,  0.87144798, -6.79971146, -0.45231566])"
            ]
          },
          "metadata": {},
          "execution_count": 109
        }
      ]
    },
    {
      "cell_type": "code",
      "source": [
        "arr.sum()"
      ],
      "metadata": {
        "colab": {
          "base_uri": "https://localhost:8080/"
        },
        "id": "6oOBqdDdkEt5",
        "outputId": "94c08fe4-8ccb-4a1d-879c-3e6223810b31"
      },
      "execution_count": 110,
      "outputs": [
        {
          "output_type": "execute_result",
          "data": {
            "text/plain": [
              "45"
            ]
          },
          "metadata": {},
          "execution_count": 110
        }
      ]
    },
    {
      "cell_type": "code",
      "source": [
        "arr.mean()"
      ],
      "metadata": {
        "colab": {
          "base_uri": "https://localhost:8080/"
        },
        "id": "j_EOerINkyMs",
        "outputId": "48e11854-f3e6-4ab2-f578-cf6fe52a8a85"
      },
      "execution_count": 111,
      "outputs": [
        {
          "output_type": "execute_result",
          "data": {
            "text/plain": [
              "4.5"
            ]
          },
          "metadata": {},
          "execution_count": 111
        }
      ]
    },
    {
      "cell_type": "code",
      "source": [
        "arr.max()"
      ],
      "metadata": {
        "colab": {
          "base_uri": "https://localhost:8080/"
        },
        "id": "-5qf4KQtkzcv",
        "outputId": "e687daa7-d064-4063-8304-9dfb426892b7"
      },
      "execution_count": 112,
      "outputs": [
        {
          "output_type": "execute_result",
          "data": {
            "text/plain": [
              "9"
            ]
          },
          "metadata": {},
          "execution_count": 112
        }
      ]
    },
    {
      "cell_type": "code",
      "source": [
        "arr.min()"
      ],
      "metadata": {
        "colab": {
          "base_uri": "https://localhost:8080/"
        },
        "id": "0xKgIfc_k1Ra",
        "outputId": "1f8852c8-80e2-4965-e9e6-dbca270a4c2a"
      },
      "execution_count": 113,
      "outputs": [
        {
          "output_type": "execute_result",
          "data": {
            "text/plain": [
              "0"
            ]
          },
          "metadata": {},
          "execution_count": 113
        }
      ]
    },
    {
      "cell_type": "code",
      "source": [
        "arr.var()"
      ],
      "metadata": {
        "colab": {
          "base_uri": "https://localhost:8080/"
        },
        "id": "L6Jv8fVJk2be",
        "outputId": "6c85bf79-26c4-415f-f28e-df2e941bc22c"
      },
      "execution_count": 114,
      "outputs": [
        {
          "output_type": "execute_result",
          "data": {
            "text/plain": [
              "8.25"
            ]
          },
          "metadata": {},
          "execution_count": 114
        }
      ]
    },
    {
      "cell_type": "code",
      "source": [
        "arr.std()"
      ],
      "metadata": {
        "colab": {
          "base_uri": "https://localhost:8080/"
        },
        "id": "-7jC6vW5k4iB",
        "outputId": "f63d100b-1ae1-4fbc-a805-eda59a362885"
      },
      "execution_count": 115,
      "outputs": [
        {
          "output_type": "execute_result",
          "data": {
            "text/plain": [
              "2.8722813232690143"
            ]
          },
          "metadata": {},
          "execution_count": 115
        }
      ]
    },
    {
      "cell_type": "code",
      "source": [
        "np.arange(0,25).reshape(5,5)"
      ],
      "metadata": {
        "colab": {
          "base_uri": "https://localhost:8080/"
        },
        "id": "zQFz7GdAk5mN",
        "outputId": "9b17e82b-e15e-4920-d046-a9a7ef7a927e"
      },
      "execution_count": 118,
      "outputs": [
        {
          "output_type": "execute_result",
          "data": {
            "text/plain": [
              "array([[ 0,  1,  2,  3,  4],\n",
              "       [ 5,  6,  7,  8,  9],\n",
              "       [10, 11, 12, 13, 14],\n",
              "       [15, 16, 17, 18, 19],\n",
              "       [20, 21, 22, 23, 24]])"
            ]
          },
          "metadata": {},
          "execution_count": 118
        }
      ]
    },
    {
      "cell_type": "code",
      "source": [
        "arr"
      ],
      "metadata": {
        "colab": {
          "base_uri": "https://localhost:8080/"
        },
        "id": "4iBDaoIXk-WG",
        "outputId": "aad56891-dfa4-4263-8826-786ef9401782"
      },
      "execution_count": 119,
      "outputs": [
        {
          "output_type": "execute_result",
          "data": {
            "text/plain": [
              "array([0, 1, 2, 3, 4, 5, 6, 7, 8, 9])"
            ]
          },
          "metadata": {},
          "execution_count": 119
        }
      ]
    },
    {
      "cell_type": "code",
      "source": [
        "arr.sum()"
      ],
      "metadata": {
        "colab": {
          "base_uri": "https://localhost:8080/"
        },
        "id": "42aRvVAzlAWh",
        "outputId": "4c8b5652-ebad-4fdc-9d35-99594d52e286"
      },
      "execution_count": 120,
      "outputs": [
        {
          "output_type": "execute_result",
          "data": {
            "text/plain": [
              "45"
            ]
          },
          "metadata": {},
          "execution_count": 120
        }
      ]
    },
    {
      "cell_type": "code",
      "source": [
        "arr.sum(axis=0)"
      ],
      "metadata": {
        "colab": {
          "base_uri": "https://localhost:8080/"
        },
        "id": "OfRvA7GQlKIR",
        "outputId": "f56e13e8-4638-4b65-a0f1-ad0bdb0c79fe"
      },
      "execution_count": 122,
      "outputs": [
        {
          "output_type": "execute_result",
          "data": {
            "text/plain": [
              "45"
            ]
          },
          "metadata": {},
          "execution_count": 122
        }
      ]
    },
    {
      "cell_type": "code",
      "source": [
        "np.zeros(10)"
      ],
      "metadata": {
        "colab": {
          "base_uri": "https://localhost:8080/"
        },
        "id": "EdowizUSlRjZ",
        "outputId": "c8ff8654-44c0-424c-c0ec-8fbff1a82d1b"
      },
      "execution_count": 124,
      "outputs": [
        {
          "output_type": "execute_result",
          "data": {
            "text/plain": [
              "array([0., 0., 0., 0., 0., 0., 0., 0., 0., 0.])"
            ]
          },
          "metadata": {},
          "execution_count": 124
        }
      ]
    },
    {
      "cell_type": "code",
      "source": [
        "np.ones(10)"
      ],
      "metadata": {
        "colab": {
          "base_uri": "https://localhost:8080/"
        },
        "id": "N-l-rDA8lcy9",
        "outputId": "f5cf679e-fe56-4632-9281-42404d4e4817"
      },
      "execution_count": 125,
      "outputs": [
        {
          "output_type": "execute_result",
          "data": {
            "text/plain": [
              "array([1., 1., 1., 1., 1., 1., 1., 1., 1., 1.])"
            ]
          },
          "metadata": {},
          "execution_count": 125
        }
      ]
    },
    {
      "cell_type": "code",
      "source": [
        "np.ones(10) * 5"
      ],
      "metadata": {
        "colab": {
          "base_uri": "https://localhost:8080/"
        },
        "id": "uh7VJc27m2XR",
        "outputId": "08a46fe4-93eb-4773-916f-3c45b0b57b38"
      },
      "execution_count": 126,
      "outputs": [
        {
          "output_type": "execute_result",
          "data": {
            "text/plain": [
              "array([5., 5., 5., 5., 5., 5., 5., 5., 5., 5.])"
            ]
          },
          "metadata": {},
          "execution_count": 126
        }
      ]
    },
    {
      "cell_type": "code",
      "source": [
        "np.arange(10,51)\n"
      ],
      "metadata": {
        "colab": {
          "base_uri": "https://localhost:8080/"
        },
        "id": "Dg5D506Qm7HB",
        "outputId": "54e2accf-4ac8-40f1-86d0-e83259b31e5b"
      },
      "execution_count": 127,
      "outputs": [
        {
          "output_type": "execute_result",
          "data": {
            "text/plain": [
              "array([10, 11, 12, 13, 14, 15, 16, 17, 18, 19, 20, 21, 22, 23, 24, 25, 26,\n",
              "       27, 28, 29, 30, 31, 32, 33, 34, 35, 36, 37, 38, 39, 40, 41, 42, 43,\n",
              "       44, 45, 46, 47, 48, 49, 50])"
            ]
          },
          "metadata": {},
          "execution_count": 127
        }
      ]
    },
    {
      "cell_type": "code",
      "source": [
        "np.arange(10,51,2)"
      ],
      "metadata": {
        "colab": {
          "base_uri": "https://localhost:8080/"
        },
        "id": "PzDywQ_Um-2Q",
        "outputId": "b2b3ede1-1838-4eec-bacd-e4406455795c"
      },
      "execution_count": 128,
      "outputs": [
        {
          "output_type": "execute_result",
          "data": {
            "text/plain": [
              "array([10, 12, 14, 16, 18, 20, 22, 24, 26, 28, 30, 32, 34, 36, 38, 40, 42,\n",
              "       44, 46, 48, 50])"
            ]
          },
          "metadata": {},
          "execution_count": 128
        }
      ]
    },
    {
      "cell_type": "code",
      "source": [
        "np.arange(9)"
      ],
      "metadata": {
        "colab": {
          "base_uri": "https://localhost:8080/"
        },
        "id": "nMr_aSxBnBIS",
        "outputId": "2d24f858-e135-4ae0-9435-04a0ef30b493"
      },
      "execution_count": 129,
      "outputs": [
        {
          "output_type": "execute_result",
          "data": {
            "text/plain": [
              "array([0, 1, 2, 3, 4, 5, 6, 7, 8])"
            ]
          },
          "metadata": {},
          "execution_count": 129
        }
      ]
    },
    {
      "cell_type": "code",
      "source": [
        "arr = np.arange(9)"
      ],
      "metadata": {
        "id": "0t7SkneInDPA"
      },
      "execution_count": 132,
      "outputs": []
    },
    {
      "cell_type": "code",
      "source": [
        "arr.reshape(3,3)"
      ],
      "metadata": {
        "colab": {
          "base_uri": "https://localhost:8080/"
        },
        "id": "f9m1ZXLDnF4s",
        "outputId": "3de9238a-3575-45d1-dfac-f0c8127bbf75"
      },
      "execution_count": 133,
      "outputs": [
        {
          "output_type": "execute_result",
          "data": {
            "text/plain": [
              "array([[0, 1, 2],\n",
              "       [3, 4, 5],\n",
              "       [6, 7, 8]])"
            ]
          },
          "metadata": {},
          "execution_count": 133
        }
      ]
    },
    {
      "cell_type": "code",
      "source": [
        "np.eye(3,3)"
      ],
      "metadata": {
        "colab": {
          "base_uri": "https://localhost:8080/"
        },
        "id": "txPu2jj1nOKd",
        "outputId": "5700891f-7d57-4b3c-88a5-fc744f2b4007"
      },
      "execution_count": 134,
      "outputs": [
        {
          "output_type": "execute_result",
          "data": {
            "text/plain": [
              "array([[1., 0., 0.],\n",
              "       [0., 1., 0.],\n",
              "       [0., 0., 1.]])"
            ]
          },
          "metadata": {},
          "execution_count": 134
        }
      ]
    },
    {
      "cell_type": "code",
      "source": [
        "np.random.rand(1)"
      ],
      "metadata": {
        "colab": {
          "base_uri": "https://localhost:8080/"
        },
        "id": "DdEyE1tznSAt",
        "outputId": "49f4c6bd-b01b-4a3a-fb2a-73dc9c22c933"
      },
      "execution_count": 135,
      "outputs": [
        {
          "output_type": "execute_result",
          "data": {
            "text/plain": [
              "array([0.03131329])"
            ]
          },
          "metadata": {},
          "execution_count": 135
        }
      ]
    },
    {
      "cell_type": "code",
      "source": [
        "np.random.randn(25)"
      ],
      "metadata": {
        "colab": {
          "base_uri": "https://localhost:8080/"
        },
        "id": "AgwgqV-9nXl8",
        "outputId": "a494d755-d74e-42c9-e798-1435394a7b58"
      },
      "execution_count": 136,
      "outputs": [
        {
          "output_type": "execute_result",
          "data": {
            "text/plain": [
              "array([-0.17628566,  1.20089277,  0.69839894, -0.17162884, -0.90718658,\n",
              "        1.18862573,  0.78553212,  2.65601009,  0.26348604,  1.64177112,\n",
              "        0.4608163 ,  0.08592347, -1.50995728,  0.72150246, -0.84341992,\n",
              "       -0.51332541, -0.0435368 , -0.27530091, -1.56306679, -0.79563099,\n",
              "        0.9305844 ,  0.67776741,  0.69844026,  0.17360206,  0.66228451])"
            ]
          },
          "metadata": {},
          "execution_count": 136
        }
      ]
    },
    {
      "cell_type": "code",
      "source": [
        "arr = np.arange(1,101) / 100\n",
        "arr.reshape(10,10)\n"
      ],
      "metadata": {
        "colab": {
          "base_uri": "https://localhost:8080/"
        },
        "id": "Rulk4CWQnZ98",
        "outputId": "bb1602f1-2e0a-497d-d1b0-83efd74efdc1"
      },
      "execution_count": 138,
      "outputs": [
        {
          "output_type": "execute_result",
          "data": {
            "text/plain": [
              "array([[0.01, 0.02, 0.03, 0.04, 0.05, 0.06, 0.07, 0.08, 0.09, 0.1 ],\n",
              "       [0.11, 0.12, 0.13, 0.14, 0.15, 0.16, 0.17, 0.18, 0.19, 0.2 ],\n",
              "       [0.21, 0.22, 0.23, 0.24, 0.25, 0.26, 0.27, 0.28, 0.29, 0.3 ],\n",
              "       [0.31, 0.32, 0.33, 0.34, 0.35, 0.36, 0.37, 0.38, 0.39, 0.4 ],\n",
              "       [0.41, 0.42, 0.43, 0.44, 0.45, 0.46, 0.47, 0.48, 0.49, 0.5 ],\n",
              "       [0.51, 0.52, 0.53, 0.54, 0.55, 0.56, 0.57, 0.58, 0.59, 0.6 ],\n",
              "       [0.61, 0.62, 0.63, 0.64, 0.65, 0.66, 0.67, 0.68, 0.69, 0.7 ],\n",
              "       [0.71, 0.72, 0.73, 0.74, 0.75, 0.76, 0.77, 0.78, 0.79, 0.8 ],\n",
              "       [0.81, 0.82, 0.83, 0.84, 0.85, 0.86, 0.87, 0.88, 0.89, 0.9 ],\n",
              "       [0.91, 0.92, 0.93, 0.94, 0.95, 0.96, 0.97, 0.98, 0.99, 1.  ]])"
            ]
          },
          "metadata": {},
          "execution_count": 138
        }
      ]
    },
    {
      "cell_type": "code",
      "source": [
        "np.linspace(0,1,20)"
      ],
      "metadata": {
        "colab": {
          "base_uri": "https://localhost:8080/"
        },
        "id": "Qe5OzWjUnj2j",
        "outputId": "e41d1f5a-c8c8-496f-988d-731562d591f7"
      },
      "execution_count": 139,
      "outputs": [
        {
          "output_type": "execute_result",
          "data": {
            "text/plain": [
              "array([0.        , 0.05263158, 0.10526316, 0.15789474, 0.21052632,\n",
              "       0.26315789, 0.31578947, 0.36842105, 0.42105263, 0.47368421,\n",
              "       0.52631579, 0.57894737, 0.63157895, 0.68421053, 0.73684211,\n",
              "       0.78947368, 0.84210526, 0.89473684, 0.94736842, 1.        ])"
            ]
          },
          "metadata": {},
          "execution_count": 139
        }
      ]
    },
    {
      "cell_type": "code",
      "source": [
        "mat = np.arange(1,26).reshape(5,5)"
      ],
      "metadata": {
        "id": "NaMxOMYfnxBo"
      },
      "execution_count": 142,
      "outputs": []
    },
    {
      "cell_type": "code",
      "source": [
        "mat"
      ],
      "metadata": {
        "colab": {
          "base_uri": "https://localhost:8080/"
        },
        "id": "a65o-Ap_n5d4",
        "outputId": "c7c0de6f-3a80-4125-e965-aa8c69446594"
      },
      "execution_count": 143,
      "outputs": [
        {
          "output_type": "execute_result",
          "data": {
            "text/plain": [
              "array([[ 1,  2,  3,  4,  5],\n",
              "       [ 6,  7,  8,  9, 10],\n",
              "       [11, 12, 13, 14, 15],\n",
              "       [16, 17, 18, 19, 20],\n",
              "       [21, 22, 23, 24, 25]])"
            ]
          },
          "metadata": {},
          "execution_count": 143
        }
      ]
    },
    {
      "cell_type": "code",
      "source": [
        "mat[2:1,:]"
      ],
      "metadata": {
        "colab": {
          "base_uri": "https://localhost:8080/"
        },
        "id": "fZccfN5Ln9IC",
        "outputId": "dbefc9a5-fb02-48b4-d7b5-4c2850a7b853"
      },
      "execution_count": 144,
      "outputs": [
        {
          "output_type": "execute_result",
          "data": {
            "text/plain": [
              "array([], shape=(0, 5), dtype=int64)"
            ]
          },
          "metadata": {},
          "execution_count": 144
        }
      ]
    },
    {
      "cell_type": "code",
      "source": [
        "mat[3:4]"
      ],
      "metadata": {
        "colab": {
          "base_uri": "https://localhost:8080/"
        },
        "id": "db__AU7uoFOj",
        "outputId": "158387f6-d3c0-4ac0-ad40-37f9feb37fb3"
      },
      "execution_count": 145,
      "outputs": [
        {
          "output_type": "execute_result",
          "data": {
            "text/plain": [
              "array([[16, 17, 18, 19, 20]])"
            ]
          },
          "metadata": {},
          "execution_count": 145
        }
      ]
    },
    {
      "cell_type": "code",
      "source": [
        "mat[:3,1:2]"
      ],
      "metadata": {
        "colab": {
          "base_uri": "https://localhost:8080/"
        },
        "id": "lWMojpIBoJCi",
        "outputId": "bf5b3595-6642-4a6e-92b6-ff65f0dd2c5f"
      },
      "execution_count": 146,
      "outputs": [
        {
          "output_type": "execute_result",
          "data": {
            "text/plain": [
              "array([[ 2],\n",
              "       [ 7],\n",
              "       [12]])"
            ]
          },
          "metadata": {},
          "execution_count": 146
        }
      ]
    },
    {
      "cell_type": "code",
      "source": [
        "mat[4:]"
      ],
      "metadata": {
        "colab": {
          "base_uri": "https://localhost:8080/"
        },
        "id": "sjhSZgDxoS2d",
        "outputId": "469aec25-24b3-4a19-d290-cee67163bbf4"
      },
      "execution_count": 147,
      "outputs": [
        {
          "output_type": "execute_result",
          "data": {
            "text/plain": [
              "array([[21, 22, 23, 24, 25]])"
            ]
          },
          "metadata": {},
          "execution_count": 147
        }
      ]
    },
    {
      "cell_type": "code",
      "source": [
        "mat[3:5]"
      ],
      "metadata": {
        "colab": {
          "base_uri": "https://localhost:8080/"
        },
        "id": "j7iSO4Z7oVvP",
        "outputId": "e17e038d-82fc-40cf-c5a0-ec8f1f698751"
      },
      "execution_count": 148,
      "outputs": [
        {
          "output_type": "execute_result",
          "data": {
            "text/plain": [
              "array([[16, 17, 18, 19, 20],\n",
              "       [21, 22, 23, 24, 25]])"
            ]
          },
          "metadata": {},
          "execution_count": 148
        }
      ]
    },
    {
      "cell_type": "code",
      "source": [
        "mat.sum()"
      ],
      "metadata": {
        "colab": {
          "base_uri": "https://localhost:8080/"
        },
        "id": "BhkzyVChoZdh",
        "outputId": "a371c973-2580-4237-df4e-2910fac9aa27"
      },
      "execution_count": 151,
      "outputs": [
        {
          "output_type": "execute_result",
          "data": {
            "text/plain": [
              "325"
            ]
          },
          "metadata": {},
          "execution_count": 151
        }
      ]
    },
    {
      "cell_type": "code",
      "source": [
        "mat.std()"
      ],
      "metadata": {
        "colab": {
          "base_uri": "https://localhost:8080/"
        },
        "id": "Z2cgLOdpoda1",
        "outputId": "68982901-c9dc-4692-de21-6bc22d85ed87"
      },
      "execution_count": 152,
      "outputs": [
        {
          "output_type": "execute_result",
          "data": {
            "text/plain": [
              "7.211102550927978"
            ]
          },
          "metadata": {},
          "execution_count": 152
        }
      ]
    },
    {
      "cell_type": "code",
      "source": [
        "mat.mean()"
      ],
      "metadata": {
        "colab": {
          "base_uri": "https://localhost:8080/"
        },
        "id": "TwVDitZiou9E",
        "outputId": "b405bc38-754c-4042-e71a-df66f0c3d176"
      },
      "execution_count": 153,
      "outputs": [
        {
          "output_type": "execute_result",
          "data": {
            "text/plain": [
              "13.0"
            ]
          },
          "metadata": {},
          "execution_count": 153
        }
      ]
    },
    {
      "cell_type": "code",
      "source": [
        "mat.max()"
      ],
      "metadata": {
        "colab": {
          "base_uri": "https://localhost:8080/"
        },
        "id": "FoKTXgNYowig",
        "outputId": "29708bc0-b3e0-411a-ad27-b85a0f8a38a0"
      },
      "execution_count": 154,
      "outputs": [
        {
          "output_type": "execute_result",
          "data": {
            "text/plain": [
              "25"
            ]
          },
          "metadata": {},
          "execution_count": 154
        }
      ]
    },
    {
      "cell_type": "code",
      "source": [
        "mat.mean()"
      ],
      "metadata": {
        "colab": {
          "base_uri": "https://localhost:8080/"
        },
        "id": "SxBN3rtOoxxA",
        "outputId": "bbe21b0c-3179-46c3-f29b-4a74c3db7503"
      },
      "execution_count": 155,
      "outputs": [
        {
          "output_type": "execute_result",
          "data": {
            "text/plain": [
              "13.0"
            ]
          },
          "metadata": {},
          "execution_count": 155
        }
      ]
    },
    {
      "cell_type": "code",
      "source": [
        ""
      ],
      "metadata": {
        "id": "_my7AgBPoy5C"
      },
      "execution_count": null,
      "outputs": []
    }
  ]
}